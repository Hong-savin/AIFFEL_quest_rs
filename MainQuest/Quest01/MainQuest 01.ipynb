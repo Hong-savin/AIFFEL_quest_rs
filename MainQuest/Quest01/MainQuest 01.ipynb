{
 "cells": [
  {
   "cell_type": "markdown",
   "metadata": {},
   "source": [
    "# 1. Transformer와 GPT-1의 변경 사항 서술\n",
    "### GPT-1은 Transformer 모델에서 디코더만 사용하는 구조로 설계되었습니다.\n",
    "\n",
    "- Transformer의 인코더 제거: GPT-1은 인코더 없이 디코더 블록만 사용하므로, Transformer의 기본 구조에서 인코더를 제거했습니다.\n",
    "- Self-Attention 사용: GPT-1은 미래의 정보를 참조하지 않기 때문에 causal mask를 적용하여 자기 회귀적으로 학습을 진행합니다. 이 causal mask는 Transformer에서 필요 없는 정보가 포함되지 않도록 하는 기능입니다.\n",
    "- 입력과 출력 데이터 전처리: GPT-1은 생성 모델이므로 주어진 입력에 맞춰 연속된 문장을 생성하는 방식입니다. 데이터를 GPT-1에 맞춰 전처리했습니다.\n",
    "\n",
    "# 2. 모델의 입력 형태에 맞게 전처리 수행\n",
    "\n",
    "- 전처리: 질문 데이터와 답변 데이터를 START_TOKEN과 END_TOKEN을 사용해 입력을 구성했고, 이를 GPT-1에 맞게 전처리하였습니다. GPT-1은 디코더 기반의 생성 모델로, 학습 시 이전 토큰들을 기반으로 다음 토큰을 예측해야 하므로, 데이터를 디코더 블록에 맞춰 변형하였습니다.\n",
    "- 질문 및 답변 데이터를 토큰화한 후, pad_sequences를 사용하여 패딩을 처리했습니다. 이로 인해 일정한 길이를 가진 입력 데이터가 생성되었으며, GPT-1 모델에 맞는 형태로 변형하였습니다.\n",
    "\n",
    "# 3. GPT 논문 기반 수정 사항\n",
    "\n",
    "- 입력 블록 수정: 입력 데이터에 대해 GPT-1 논문을 참고하여 positional encoding을 적용하고, 임베딩된 단어 벡터를 GPT-1에 맞게 구성하였습니다. 이를 통해 문장의 각 토큰에 위치 정보를 부여하였습니다.\n",
    "- 모델 구조 변경: GPT-1의 블록 구조에 맞게 Transformer 코드를 수정하였습니다. 이때 Multi-Head Attention 블록과 Feed Forward Network를 통해 문장을 처리하고, 각 레이어 뒤에 Layer Normalization을 적용하였습니다.\n",
    "    - Positional Encoding 적용: 각 문장에 위치 정보를 추가하여 순차적인 단어의 관계를 학습할 수 있도록 하였습니다.\n",
    "    - Layer Normalization과 Dropout 적용: 안정적인 학습을 위해 각 레이어 뒤에 Normalization과 Dropout을 추가하여 과적합을 방지하였습니다.\n",
    "    \n",
    "# 4. Model.summary() 출력: \n",
    "### GPT-1의 디코더 구조가 올바르게 설정되었음을 확인하였습니다. 출력 결과는 디코더 블록이 여러 층으로 쌓여 있으며, 각 층에서 Multi-Head Attention과 Feed Forward Network가 올바르게 구성되었음을 보여줍니다.\n",
    "\n",
    "```\n",
    "Model: \"transformer\"\n",
    "_________________________________________________________________\n",
    "Layer (type)                 Output Shape              Param #   \n",
    "=================================================================\n",
    "inputs (InputLayer)          [(None, None)]            0         \n",
    "_________________________________________________________________\n",
    "decoder (Functional)         (None, None, 256)         3148288   \n",
    "_________________________________________________________________\n",
    "outputs (Dense)              (None, None, 8180)        2102260   \n",
    "=================================================================\n",
    "Total params: 5,250,548\n",
    "Trainable params: 5,250,548\n",
    "Non-trainable params: 0\n",
    "_________________________________________________________________\n",
    "```\n",
    "- inputs: 모델 입력 레이어는 (None, None) 형태로 문장의 길이를 유동적으로 처리할 수 있도록 구성되었습니다.\n",
    "- decoder: 디코더 레이어가 쌓여 있으며, 이 레이어가 모델의 중심 부분을 담당하고 있습니다. 파라미터 수 3,148,288은 Multi-Head Attention과 Feed Forward Network의 합산 파라미터를 나타냅니다.\n",
    "- outputs: 출력 레이어는 단어 집합의 크기(8180)에 맞춰 설정되었습니다. 파라미터 수 2,102,260은 디코더 출력이 단어 집합의 확률로 변환되는 파라미터를 나타냅니다."
   ]
  },
  {
   "cell_type": "code",
   "execution_count": 1,
   "metadata": {
    "id": "PgzTgkaL9OnI"
   },
   "outputs": [],
   "source": [
    "import numpy as np\n",
    "import matplotlib.pyplot as plt\n",
    "import tensorflow as tf"
   ]
  },
  {
   "cell_type": "code",
   "execution_count": 2,
   "metadata": {
    "id": "JY6lwO-oWZJd"
   },
   "outputs": [],
   "source": [
    "# PositionalEncoding은 Transformer와 GPT-1에서 동일하게 사용됩니다.\n",
    "class PositionalEncoding(tf.keras.layers.Layer):\n",
    "    def __init__(self, position, d_model):\n",
    "        super(PositionalEncoding, self).__init__()\n",
    "        self.pos_encoding = self.positional_encoding(position, d_model)\n",
    "\n",
    "    def get_angles(self, position, i, d_model):\n",
    "        angles = 1 / tf.pow(10000, (2 * (i // 2)) / tf.cast(d_model, tf.float32))\n",
    "        return position * angles\n",
    "\n",
    "    def positional_encoding(self, position, d_model):\n",
    "        angle_rads = self.get_angles(\n",
    "            position=tf.range(position, dtype=tf.float32)[:, tf.newaxis],\n",
    "            i=tf.range(d_model, dtype=tf.float32)[tf.newaxis, :],\n",
    "            d_model=d_model)\n",
    "        \n",
    "        sines = tf.math.sin(angle_rads[:, 0::2])\n",
    "        cosines = tf.math.cos(angle_rads[:, 1::2])\n",
    "        angle_rads = np.zeros(angle_rads.shape)\n",
    "        angle_rads[:, 0::2] = sines\n",
    "        angle_rads[:, 1::2] = cosines\n",
    "        \n",
    "        pos_encoding = tf.constant(angle_rads)\n",
    "        pos_encoding = pos_encoding[tf.newaxis, ...]\n",
    "        return tf.cast(pos_encoding, tf.float32)\n",
    "\n",
    "    def call(self, inputs):\n",
    "        return inputs + self.pos_encoding[:, :tf.shape(inputs)[1], :]"
   ]
  },
  {
   "cell_type": "code",
   "execution_count": 3,
   "metadata": {
    "id": "F6534luH9d0K"
   },
   "outputs": [],
   "source": [
    "# scaled_dot_product_attention 함수는 Transformer와 GPT-1에서 동일하게 사용됩니다.\n",
    "def scaled_dot_product_attention(query, key, value, mask):\n",
    "    matmul_qk = tf.matmul(query, key, transpose_b=True)\n",
    "    depth = tf.cast(tf.shape(key)[-1], tf.float32)\n",
    "    logits = matmul_qk / tf.math.sqrt(depth)\n",
    "    if mask is not None:\n",
    "        logits += (mask * -1e9)\n",
    "    attention_weights = tf.nn.softmax(logits, axis=-1)\n",
    "    output = tf.matmul(attention_weights, value)\n",
    "    return output, attention_weights"
   ]
  },
  {
   "cell_type": "code",
   "execution_count": 4,
   "metadata": {
    "id": "RNU5ilcw9f3q"
   },
   "outputs": [],
   "source": [
    "# MultiHeadAttention에서 mask 제거 및 일반적인 query, key, value 전달\n",
    "class MultiHeadAttention(tf.keras.layers.Layer):\n",
    "    def __init__(self, d_model, num_heads, name=\"multi_head_attention\"):\n",
    "        super(MultiHeadAttention, self).__init__(name=name)\n",
    "        self.num_heads = num_heads\n",
    "        self.d_model = d_model\n",
    "        assert d_model % self.num_heads == 0\n",
    "        self.depth = d_model // self.num_heads\n",
    "        self.query_dense = tf.keras.layers.Dense(units=d_model)\n",
    "        self.key_dense = tf.keras.layers.Dense(units=d_model)\n",
    "        self.value_dense = tf.keras.layers.Dense(units=d_model)\n",
    "        self.dense = tf.keras.layers.Dense(units=d_model)\n",
    "\n",
    "    def split_heads(self, inputs, batch_size):\n",
    "        inputs = tf.reshape(inputs, shape=(batch_size, -1, self.num_heads, self.depth))\n",
    "        return tf.transpose(inputs, perm=[0, 2, 1, 3])\n",
    "\n",
    "    def call(self, query, key, value):\n",
    "        batch_size = tf.shape(query)[0]\n",
    "\n",
    "        # query, key, value에 Dense 적용\n",
    "        query = self.query_dense(query)\n",
    "        key = self.key_dense(key)\n",
    "        value = self.value_dense(value)\n",
    "\n",
    "        # 헤드 나누기\n",
    "        query = self.split_heads(query, batch_size)\n",
    "        key = self.split_heads(key, batch_size)\n",
    "        value = self.split_heads(value, batch_size)\n",
    "\n",
    "        # 스케일된 닷 프로덕트 어텐션\n",
    "        scaled_attention, _ = scaled_dot_product_attention(query, key, value, None)\n",
    "\n",
    "        # heads 통합\n",
    "        scaled_attention = tf.transpose(scaled_attention, perm=[0, 2, 1, 3])\n",
    "        concat_attention = tf.reshape(scaled_attention, (batch_size, -1, self.d_model))\n",
    "\n",
    "        outputs = self.dense(concat_attention)\n",
    "        return outputs"
   ]
  },
  {
   "cell_type": "code",
   "execution_count": 5,
   "metadata": {},
   "outputs": [],
   "source": [
    "# encoder 관련 코드는 Transformer에서 GPT-1으로 변경하는 과정에서 제거되었습니다.\n",
    "# GPT-1에서는 오직 디코더만 사용됩니다."
   ]
  },
  {
   "cell_type": "code",
   "execution_count": 6,
   "metadata": {
    "id": "I3QDoLz49oPK"
   },
   "outputs": [],
   "source": [
    "# decoder_layer 함수 수정: query, key, value로만 호출\n",
    "def decoder_layer(dff, d_model, num_heads, dropout, name=\"decoder_layer\"):\n",
    "    inputs = tf.keras.Input(shape=(None, d_model), name=\"inputs\")\n",
    "    \n",
    "    # Self-Attention을 위한 MultiHeadAttention 사용 (mask 제거)\n",
    "    attention1 = MultiHeadAttention(d_model, num_heads, name=\"attention_1\")(inputs, inputs, inputs)\n",
    "\n",
    "    # 잔차 연결과 Layer Normalization\n",
    "    attention1 = tf.keras.layers.LayerNormalization(epsilon=1e-6)(attention1 + inputs)\n",
    "    \n",
    "    # 포지션 와이즈 피드 포워드 네트워크\n",
    "    outputs = tf.keras.layers.Dense(units=dff, activation='relu')(attention1)\n",
    "    outputs = tf.keras.layers.Dense(units=d_model)(outputs)\n",
    "    outputs = tf.keras.layers.Dropout(rate=dropout)(outputs)\n",
    "    \n",
    "    # 잔차 연결과 Layer Normalization\n",
    "    outputs = tf.keras.layers.LayerNormalization(epsilon=1e-6)(outputs + attention1)\n",
    "    \n",
    "    return tf.keras.Model(inputs=inputs, outputs=outputs, name=name)"
   ]
  },
  {
   "cell_type": "code",
   "execution_count": 7,
   "metadata": {
    "id": "5i9lZmji9qDa"
   },
   "outputs": [],
   "source": [
    "# decoder 함수 수정\n",
    "def decoder(vocab_size, num_layers, dff, d_model, num_heads, dropout, name='decoder'):\n",
    "    inputs = tf.keras.Input(shape=(None,), name='inputs')\n",
    "    embeddings = tf.keras.layers.Embedding(vocab_size, d_model)(inputs)\n",
    "    embeddings *= tf.math.sqrt(tf.cast(d_model, tf.float32))\n",
    "    embeddings = PositionalEncoding(vocab_size, d_model)(embeddings)\n",
    "    outputs = tf.keras.layers.Dropout(rate=dropout)(embeddings)\n",
    "\n",
    "    # 디코더 레이어 쌓기\n",
    "    for i in range(num_layers):\n",
    "        outputs = decoder_layer(dff=dff, d_model=d_model, num_heads=num_heads,\n",
    "                                dropout=dropout, name=f'decoder_layer_{i}')(outputs)\n",
    "\n",
    "    return tf.keras.Model(inputs=inputs, outputs=outputs, name=name)"
   ]
  },
  {
   "cell_type": "code",
   "execution_count": 8,
   "metadata": {
    "id": "-GEC6CXF9q7S"
   },
   "outputs": [],
   "source": [
    "# transformer 함수 수정\n",
    "def transformer(vocab_size, num_layers, dff, d_model, num_heads, dropout, name=\"transformer\"):\n",
    "    inputs = tf.keras.Input(shape=(None,), name=\"inputs\")\n",
    "    \n",
    "    # 디코더만 사용\n",
    "    dec_outputs = decoder(vocab_size=vocab_size, num_layers=num_layers, dff=dff,\n",
    "                          d_model=d_model, num_heads=num_heads, dropout=dropout)(inputs)\n",
    "\n",
    "    # 출력층\n",
    "    outputs = tf.keras.layers.Dense(units=vocab_size, name=\"outputs\")(dec_outputs)\n",
    "    return tf.keras.Model(inputs=inputs, outputs=outputs, name=name)"
   ]
  },
  {
   "cell_type": "code",
   "execution_count": 9,
   "metadata": {
    "id": "7DgCW2_k-8KM"
   },
   "outputs": [],
   "source": [
    "def loss_function(y_true, y_pred):\n",
    "    # y_true는 (batch_size, MAX_LENGTH - 1)의 shape을 가집니다\n",
    "    y_true = tf.reshape(y_true, shape=(-1, MAX_LENGTH - 1))\n",
    "\n",
    "    # y_pred의 길이를 y_true에 맞춰 자릅니다\n",
    "    y_pred = y_pred[:, :tf.shape(y_true)[1], :]\n",
    "\n",
    "    # 손실 함수 계산\n",
    "    loss = tf.keras.losses.SparseCategoricalCrossentropy(\n",
    "        from_logits=True, reduction='none')(y_true, y_pred)\n",
    "\n",
    "    # 패딩 마스크를 적용하여 손실 계산에 패딩 영향을 제거합니다\n",
    "    mask = tf.cast(tf.not_equal(y_true, 0), tf.float32)\n",
    "    loss = tf.multiply(loss, mask)\n",
    "\n",
    "    return tf.reduce_mean(loss)\n",
    "\n",
    "class CustomSchedule(tf.keras.optimizers.schedules.LearningRateSchedule):\n",
    "    def __init__(self, d_model, warmup_steps=4000):\n",
    "        super(CustomSchedule, self).__init__()\n",
    "        self.d_model = d_model\n",
    "        self.d_model = tf.cast(self.d_model, tf.float32)\n",
    "        self.warmup_steps = warmup_steps\n",
    "\n",
    "    def __call__(self, step):\n",
    "        arg1 = tf.math.rsqrt(step)\n",
    "        arg2 = step * (self.warmup_steps**-1.5)\n",
    "\n",
    "        return tf.math.rsqrt(self.d_model) * tf.math.minimum(arg1, arg2)"
   ]
  },
  {
   "cell_type": "code",
   "execution_count": 10,
   "metadata": {
    "colab": {
     "base_uri": "https://localhost:8080/",
     "height": 296
    },
    "id": "k4lA_Efe_uOx",
    "outputId": "0ac170c0-3298-4ebe-c2d7-33543b829fa5"
   },
   "outputs": [
    {
     "data": {
      "text/plain": [
       "Text(0.5, 0, 'Train Step')"
      ]
     },
     "execution_count": 10,
     "metadata": {},
     "output_type": "execute_result"
    },
    {
     "data": {
      "image/png": "[encoded data removed]",
      "text/plain": [
       "<Figure size 432x288 with 1 Axes>"
      ]
     },
     "metadata": {
      "needs_background": "light"
     },
     "output_type": "display_data"
    }
   ],
   "source": [
    "# 샘플 학습률 플롯\n",
    "sample_learning_rate = CustomSchedule(d_model=128)\n",
    "plt.plot(sample_learning_rate(tf.range(200000, dtype=tf.float32)))\n",
    "plt.ylabel(\"Learning Rate\")\n",
    "plt.xlabel(\"Train Step\")"
   ]
  },
  {
   "cell_type": "markdown",
   "metadata": {
    "id": "w9tpZXei_1xK"
   },
   "source": [
    "# 챗봇 구현"
   ]
  },
  {
   "cell_type": "code",
   "execution_count": 11,
   "metadata": {
    "id": "M5W2D7Uq_u_x"
   },
   "outputs": [],
   "source": [
    "import pandas as pd\n",
    "import urllib.request\n",
    "import tensorflow_datasets as tfds\n",
    "import tensorflow as tf\n",
    "import time\n",
    "import numpy as np\n",
    "import re"
   ]
  },
  {
   "cell_type": "code",
   "execution_count": 12,
   "metadata": {
    "colab": {
     "base_uri": "https://localhost:8080/",
     "height": 205
    },
    "id": "t7ku6KRb_545",
    "outputId": "38f43203-6e81-4861-fc7e-d351e6a5ddae"
   },
   "outputs": [
    {
     "data": {
      "text/html": [
       "<div>\n",
       "<style scoped>\n",
       "    .dataframe tbody tr th:only-of-type {\n",
       "        vertical-align: middle;\n",
       "    }\n",
       "\n",
       "    .dataframe tbody tr th {\n",
       "        vertical-align: top;\n",
       "    }\n",
       "\n",
       "    .dataframe thead th {\n",
       "        text-align: right;\n",
       "    }\n",
       "</style>\n",
       "<table border=\"1\" class=\"dataframe\">\n",
       "  <thead>\n",
       "    <tr style=\"text-align: right;\">\n",
       "      <th></th>\n",
       "      <th>Q</th>\n",
       "      <th>A</th>\n",
       "      <th>label</th>\n",
       "    </tr>\n",
       "  </thead>\n",
       "  <tbody>\n",
       "    <tr>\n",
       "      <th>0</th>\n",
       "      <td>12시 땡!</td>\n",
       "      <td>하루가 또 가네요.</td>\n",
       "      <td>0</td>\n",
       "    </tr>\n",
       "    <tr>\n",
       "      <th>1</th>\n",
       "      <td>1지망 학교 떨어졌어</td>\n",
       "      <td>위로해 드립니다.</td>\n",
       "      <td>0</td>\n",
       "    </tr>\n",
       "    <tr>\n",
       "      <th>2</th>\n",
       "      <td>3박4일 놀러가고 싶다</td>\n",
       "      <td>여행은 언제나 좋죠.</td>\n",
       "      <td>0</td>\n",
       "    </tr>\n",
       "    <tr>\n",
       "      <th>3</th>\n",
       "      <td>3박4일 정도 놀러가고 싶다</td>\n",
       "      <td>여행은 언제나 좋죠.</td>\n",
       "      <td>0</td>\n",
       "    </tr>\n",
       "    <tr>\n",
       "      <th>4</th>\n",
       "      <td>PPL 심하네</td>\n",
       "      <td>눈살이 찌푸려지죠.</td>\n",
       "      <td>0</td>\n",
       "    </tr>\n",
       "  </tbody>\n",
       "</table>\n",
       "</div>"
      ],
      "text/plain": [
       "                 Q            A  label\n",
       "0           12시 땡!   하루가 또 가네요.      0\n",
       "1      1지망 학교 떨어졌어    위로해 드립니다.      0\n",
       "2     3박4일 놀러가고 싶다  여행은 언제나 좋죠.      0\n",
       "3  3박4일 정도 놀러가고 싶다  여행은 언제나 좋죠.      0\n",
       "4          PPL 심하네   눈살이 찌푸려지죠.      0"
      ]
     },
     "execution_count": 12,
     "metadata": {},
     "output_type": "execute_result"
    }
   ],
   "source": [
    "urllib.request.urlretrieve(\"https://raw.githubusercontent.com/songys/Chatbot_data/master/ChatbotData.csv\", filename=\"ChatBotData.csv\")\n",
    "\n",
    "train_data = pd.read_csv('ChatBotData.csv')\n",
    "train_data.head()"
   ]
  },
  {
   "cell_type": "code",
   "execution_count": 13,
   "metadata": {
    "id": "9AKOHALL_9rJ"
   },
   "outputs": [],
   "source": [
    "questions = []\n",
    "for sentence in train_data['Q']:\n",
    "    sentence = re.sub(r\"([?.!,])\", r\" \\1 \", sentence)\n",
    "    sentence = sentence.strip()\n",
    "    questions.append(sentence)"
   ]
  },
  {
   "cell_type": "code",
   "execution_count": 14,
   "metadata": {
    "id": "GoJs0Od8_-aB"
   },
   "outputs": [],
   "source": [
    "answers = []\n",
    "for sentence in train_data['A']:\n",
    "    sentence = re.sub(r\"([?.!,])\", r\" \\1 \", sentence)\n",
    "    sentence = sentence.strip()\n",
    "    answers.append(sentence)"
   ]
  },
  {
   "cell_type": "code",
   "execution_count": 15,
   "metadata": {
    "id": "iSYgYFMVABRq"
   },
   "outputs": [],
   "source": [
    "# 서브워드텍스트인코더를 사용하여 질문과 답변을 모두 포함한 단어 집합(Vocabulary) 생성\n",
    "tokenizer = tfds.deprecated.text.SubwordTextEncoder.build_from_corpus(\n",
    "    questions + answers, target_vocab_size=2**13)"
   ]
  },
  {
   "cell_type": "code",
   "execution_count": 16,
   "metadata": {
    "colab": {
     "base_uri": "https://localhost:8080/"
    },
    "id": "ySXbL7GQAPhS",
    "outputId": "649fe380-d7c1-4cc3-d70d-7a274c53ae6f"
   },
   "outputs": [],
   "source": [
    "# 시작 토큰과 종료 토큰 설정\n",
    "START_TOKEN, END_TOKEN = [tokenizer.vocab_size], [tokenizer.vocab_size + 1]\n",
    "\n",
    "# 단어 집합의 크기 설정 (+2는 시작 토큰과 종료 토큰)\n",
    "VOCAB_SIZE = tokenizer.vocab_size + 2"
   ]
  },
  {
   "cell_type": "code",
   "execution_count": 19,
   "metadata": {
    "id": "Dl69HqzjATYG"
   },
   "outputs": [],
   "source": [
    "MAX_LENGTH = 40\n",
    "\n",
    "def tokenize_and_filter(inputs, outputs):\n",
    "    tokenized_inputs, tokenized_outputs = [], []\n",
    "\n",
    "    for (sentence1, sentence2) in zip(inputs, outputs):\n",
    "        # 데이터가 이미 정수형 배열이면 그대로 패딩 처리\n",
    "        if isinstance(sentence1, (np.ndarray, list)) and isinstance(sentence2, (np.ndarray, list)):\n",
    "            tokenized_inputs.append(sentence1)\n",
    "            tokenized_outputs.append(sentence2)\n",
    "        else:\n",
    "            # 텍스트 데이터를 토큰화 및 정수 인코딩\n",
    "            sentence1 = START_TOKEN + tokenizer.encode(sentence1) + END_TOKEN\n",
    "            sentence2 = START_TOKEN + tokenizer.encode(sentence2) + END_TOKEN\n",
    "            tokenized_inputs.append(sentence1)\n",
    "            tokenized_outputs.append(sentence2)\n",
    "\n",
    "    # MAX_LENGTH에 맞춰 패딩 처리\n",
    "    tokenized_inputs = tf.keras.preprocessing.sequence.pad_sequences(\n",
    "        tokenized_inputs, maxlen=MAX_LENGTH, padding='post')\n",
    "    tokenized_outputs = tf.keras.preprocessing.sequence.pad_sequences(\n",
    "        tokenized_outputs, maxlen=MAX_LENGTH, padding='post')\n",
    "\n",
    "    return tokenized_inputs, tokenized_outputs"
   ]
  },
  {
   "cell_type": "code",
   "execution_count": 20,
   "metadata": {
    "id": "qJJc_H5oAWmC"
   },
   "outputs": [],
   "source": [
    "questions, answers = tokenize_and_filter(questions, answers)"
   ]
  },
  {
   "cell_type": "code",
   "execution_count": 21,
   "metadata": {
    "colab": {
     "base_uri": "https://localhost:8080/"
    },
    "id": "4-iBwtZqAXxC",
    "outputId": "77915d6b-b400-4b6c-f4d6-43a4f43f2729"
   },
   "outputs": [
    {
     "name": "stdout",
     "output_type": "stream",
     "text": [
      "질문 데이터의 크기(shape) : (11823, 40)\n",
      "답변 데이터의 크기(shape) : (11823, 40)\n",
      "질문 데이터: [8178 7915 4207 3060   41 8179    0    0    0    0    0    0    0    0\n",
      "    0    0    0    0    0    0    0    0    0    0    0    0    0    0\n",
      "    0    0    0    0    0    0    0    0    0    0    0    0]\n",
      "답변 데이터: [8178 3844   74 7894    1 8179    0    0    0    0    0    0    0    0\n",
      "    0    0    0    0    0    0    0    0    0    0    0    0    0    0\n",
      "    0    0    0    0    0    0    0    0    0    0    0    0]\n"
     ]
    }
   ],
   "source": [
    "print('질문 데이터의 크기(shape) :', questions.shape)\n",
    "print('답변 데이터의 크기(shape) :', answers.shape)\n",
    "\n",
    "# 모델 학습 전에 패딩이 적절하게 이루어졌는지 확인합니다.\n",
    "print('질문 데이터:', questions[0])\n",
    "print('답변 데이터:', answers[0])"
   ]
  },
  {
   "cell_type": "code",
   "execution_count": 22,
   "metadata": {
    "id": "_FXoh56KAaBx"
   },
   "outputs": [],
   "source": [
    "BATCH_SIZE = 64\n",
    "BUFFER_SIZE = 20000\n",
    "\n",
    "# GPT-1은 디코더 기반의 모델이므로 질문을 입력으로, 답변을 타겟으로 설정\n",
    "dataset = tf.data.Dataset.from_tensor_slices((questions, answers[:, 1:]))\n",
    "dataset = dataset.cache()\n",
    "dataset = dataset.shuffle(BUFFER_SIZE)\n",
    "dataset = dataset.batch(BATCH_SIZE)\n",
    "dataset = dataset.prefetch(tf.data.experimental.AUTOTUNE)"
   ]
  },
  {
   "cell_type": "code",
   "execution_count": 23,
   "metadata": {
    "colab": {
     "base_uri": "https://localhost:8080/"
    },
    "id": "A0tcomE6AblR",
    "outputId": "c57c83df-d833-4bdb-85c0-c132215af4e1"
   },
   "outputs": [
    {
     "name": "stdout",
     "output_type": "stream",
     "text": [
      "Model: \"transformer\"\n",
      "_________________________________________________________________\n",
      "Layer (type)                 Output Shape              Param #   \n",
      "=================================================================\n",
      "inputs (InputLayer)          [(None, None)]            0         \n",
      "_________________________________________________________________\n",
      "decoder (Functional)         (None, None, 256)         3148288   \n",
      "_________________________________________________________________\n",
      "outputs (Dense)              (None, None, 8180)        2102260   \n",
      "=================================================================\n",
      "Total params: 5,250,548\n",
      "Trainable params: 5,250,548\n",
      "Non-trainable params: 0\n",
      "_________________________________________________________________\n"
     ]
    }
   ],
   "source": [
    "# 모델 정의 및 학습\n",
    "tf.keras.backend.clear_session()\n",
    "\n",
    "# Hyper-parameters\n",
    "NUM_LAYERS = 2\n",
    "D_MODEL = 256\n",
    "NUM_HEADS = 8\n",
    "DFF = 512\n",
    "DROPOUT = 0.1\n",
    "\n",
    "# 모델 정의\n",
    "model = transformer(\n",
    "    vocab_size=VOCAB_SIZE,\n",
    "    num_layers=NUM_LAYERS,\n",
    "    dff=DFF,\n",
    "    d_model=D_MODEL,\n",
    "    num_heads=NUM_HEADS,\n",
    "    dropout=DROPOUT)\n",
    "\n",
    "# 모델 구조 출력\n",
    "model.summary()"
   ]
  },
  {
   "cell_type": "code",
   "execution_count": 24,
   "metadata": {
    "id": "w3qpxTy7Ainq"
   },
   "outputs": [],
   "source": [
    "learning_rate = CustomSchedule(D_MODEL)\n",
    "\n",
    "optimizer = tf.keras.optimizers.Adam(\n",
    "    learning_rate, beta_1=0.9, beta_2=0.98, epsilon=1e-9)\n",
    "def accuracy(y_true, y_pred):\n",
    "    # y_pred의 argmax를 사용하여 예측값을 추출하고, int32로 변환\n",
    "    y_pred = tf.argmax(y_pred, axis=-1)\n",
    "    y_pred = tf.cast(y_pred, tf.int32)\n",
    "\n",
    "    # y_true는 (batch_size, MAX_LENGTH - 1)의 shape이 되어야 하므로 int32로 변환\n",
    "    y_true = tf.cast(tf.reshape(y_true, shape=(-1, MAX_LENGTH - 1)), tf.int32)\n",
    "\n",
    "    # 차원 일치 여부 확인 및 비교\n",
    "    correct_predictions = tf.equal(y_true, y_pred[:, :tf.shape(y_true)[1]])\n",
    "\n",
    "    # 정확도 계산\n",
    "    accuracy = tf.reduce_mean(tf.cast(correct_predictions, tf.float32))\n",
    "    return accuracy"
   ]
  },
  {
   "cell_type": "code",
   "execution_count": 25,
   "metadata": {
    "colab": {
     "base_uri": "https://localhost:8080/"
    },
    "id": "jq-Ow4L0Aoqy",
    "outputId": "2fcee7c2-8fc2-4d8b-8004-1ad7a7b26c7d",
    "scrolled": true
   },
   "outputs": [
    {
     "name": "stdout",
     "output_type": "stream",
     "text": [
      "Epoch 1/30\n",
      "185/185 [==============================] - 10s 36ms/step - loss: 1.4661 - accuracy: 0.0187\n",
      "Epoch 2/30\n",
      "185/185 [==============================] - 7s 36ms/step - loss: 1.2104 - accuracy: 0.0263\n",
      "Epoch 3/30\n",
      "185/185 [==============================] - 7s 36ms/step - loss: 1.0793 - accuracy: 0.0302\n",
      "Epoch 4/30\n",
      "185/185 [==============================] - 7s 37ms/step - loss: 1.0494 - accuracy: 0.0309\n",
      "Epoch 5/30\n",
      "185/185 [==============================] - 7s 37ms/step - loss: 1.0292 - accuracy: 0.0313\n",
      "Epoch 6/30\n",
      "185/185 [==============================] - 7s 37ms/step - loss: 1.0075 - accuracy: 0.0323\n",
      "Epoch 7/30\n",
      "185/185 [==============================] - 7s 37ms/step - loss: 0.9799 - accuracy: 0.0335\n",
      "Epoch 8/30\n",
      "185/185 [==============================] - 7s 37ms/step - loss: 0.9406 - accuracy: 0.0351\n",
      "Epoch 9/30\n",
      "185/185 [==============================] - 7s 37ms/step - loss: 0.8917 - accuracy: 0.0377\n",
      "Epoch 10/30\n",
      "185/185 [==============================] - 7s 37ms/step - loss: 0.8305 - accuracy: 0.0419\n",
      "Epoch 11/30\n",
      "185/185 [==============================] - 7s 37ms/step - loss: 0.7586 - accuracy: 0.0477\n",
      "Epoch 12/30\n",
      "185/185 [==============================] - 7s 37ms/step - loss: 0.6785 - accuracy: 0.0553\n",
      "Epoch 13/30\n",
      "185/185 [==============================] - 7s 37ms/step - loss: 0.5899 - accuracy: 0.0653\n",
      "Epoch 14/30\n",
      "185/185 [==============================] - 7s 36ms/step - loss: 0.5009 - accuracy: 0.0769\n",
      "Epoch 15/30\n",
      "185/185 [==============================] - 7s 37ms/step - loss: 0.4140 - accuracy: 0.0898\n",
      "Epoch 16/30\n",
      "185/185 [==============================] - 7s 37ms/step - loss: 0.3337 - accuracy: 0.1029\n",
      "Epoch 17/30\n",
      "185/185 [==============================] - 7s 37ms/step - loss: 0.2676 - accuracy: 0.1138\n",
      "Epoch 18/30\n",
      "185/185 [==============================] - 7s 37ms/step - loss: 0.2148 - accuracy: 0.1235\n",
      "Epoch 19/30\n",
      "185/185 [==============================] - 7s 37ms/step - loss: 0.1754 - accuracy: 0.1309\n",
      "Epoch 20/30\n",
      "185/185 [==============================] - 7s 37ms/step - loss: 0.1511 - accuracy: 0.1354\n",
      "Epoch 21/30\n",
      "185/185 [==============================] - 7s 37ms/step - loss: 0.1345 - accuracy: 0.1386\n",
      "Epoch 22/30\n",
      "185/185 [==============================] - 7s 37ms/step - loss: 0.1233 - accuracy: 0.1413\n",
      "Epoch 23/30\n",
      "185/185 [==============================] - 7s 37ms/step - loss: 0.1116 - accuracy: 0.1443\n",
      "Epoch 24/30\n",
      "185/185 [==============================] - 7s 37ms/step - loss: 0.0993 - accuracy: 0.1473\n",
      "Epoch 25/30\n",
      "185/185 [==============================] - 7s 37ms/step - loss: 0.0896 - accuracy: 0.1501\n",
      "Epoch 26/30\n",
      "185/185 [==============================] - 7s 37ms/step - loss: 0.0810 - accuracy: 0.1524\n",
      "Epoch 27/30\n",
      "185/185 [==============================] - 7s 37ms/step - loss: 0.0732 - accuracy: 0.1547\n",
      "Epoch 28/30\n",
      "185/185 [==============================] - 7s 37ms/step - loss: 0.0675 - accuracy: 0.1560\n",
      "Epoch 29/30\n",
      "185/185 [==============================] - 7s 37ms/step - loss: 0.0622 - accuracy: 0.1578\n",
      "Epoch 30/30\n",
      "185/185 [==============================] - 7s 37ms/step - loss: 0.0570 - accuracy: 0.1591\n"
     ]
    },
    {
     "data": {
      "text/plain": [
       "<keras.callbacks.History at 0x7fdeb4c0ebe0>"
      ]
     },
     "execution_count": 25,
     "metadata": {},
     "output_type": "execute_result"
    }
   ],
   "source": [
    "model.compile(optimizer=optimizer, loss=loss_function, metrics=[accuracy])\n",
    "\n",
    "EPOCHS = 30\n",
    "\n",
    "model.fit(dataset, epochs=EPOCHS)"
   ]
  },
  {
   "cell_type": "code",
   "execution_count": 26,
   "metadata": {},
   "outputs": [],
   "source": [
    "def preprocess_sentence(sentence):\n",
    "    sentence = re.sub(r\"([?.!,])\", r\" \\1 \", sentence)  # 문장 부호 양옆에 공백 추가\n",
    "    sentence = sentence.strip()  # 문장의 앞뒤 공백 제거\n",
    "    return sentence"
   ]
  },
  {
   "cell_type": "code",
   "execution_count": 101,
   "metadata": {
    "id": "dOTNLOCdArDi"
   },
   "outputs": [],
   "source": [
    "def evaluate(sentence, temperature=1.0):\n",
    "    sentence = preprocess_sentence(sentence)\n",
    "    sentence = tf.expand_dims(START_TOKEN + tokenizer.encode(sentence) + END_TOKEN, axis=0)\n",
    "\n",
    "    output = tf.expand_dims(START_TOKEN, 0)\n",
    "\n",
    "    predicted_sentence = []\n",
    "\n",
    "    for i in range(MAX_LENGTH):\n",
    "        predictions = model(inputs=sentence, training=False)\n",
    "        predictions = predictions[:, -1:, :]\n",
    "        predictions = predictions / temperature\n",
    "        predictions = tf.squeeze(predictions, axis=1)\n",
    "\n",
    "        predicted_id = tf.random.categorical(predictions, num_samples=1)\n",
    "        predicted_id = tf.cast(predicted_id, tf.int32)\n",
    "\n",
    "        # 최소 3개의 토큰을 예측하도록 강제\n",
    "        if tf.equal(predicted_id, END_TOKEN[0]) and len(predicted_sentence) > 3:\n",
    "            # print(\"End token predicted, stopping.\")\n",
    "            break\n",
    "        elif tf.equal(predicted_id, END_TOKEN[0]):\n",
    "            # print(\"End token predicted, but forcing continuation.\")\n",
    "            continue\n",
    "\n",
    "        predicted_sentence.append(predicted_id.numpy()[0][0])\n",
    "        sentence = tf.concat([sentence, predicted_id], axis=-1)\n",
    "\n",
    "    return predicted_sentence"
   ]
  },
  {
   "cell_type": "code",
   "execution_count": 102,
   "metadata": {
    "id": "PAHvRASLBQyz"
   },
   "outputs": [],
   "source": [
    "def predict(sentence, temperature=1.0):\n",
    "    prediction = evaluate(sentence, temperature)\n",
    "    predicted_sentence = tokenizer.decode([i for i in prediction if i < tokenizer.vocab_size])\n",
    "\n",
    "    print('Input:', sentence)\n",
    "    print('Output:', predicted_sentence)\n",
    "    print('Predicted tokens:', prediction)\n",
    "\n",
    "    return predicted_sentence"
   ]
  },
  {
   "cell_type": "code",
   "execution_count": 121,
   "metadata": {
    "colab": {
     "base_uri": "https://localhost:8080/"
    },
    "id": "ujmHO_QdUTji",
    "outputId": "7a05d963-a4c4-4cf3-ec82-12cd8a1ad73b"
   },
   "outputs": [
    {
     "name": "stdout",
     "output_type": "stream",
     "text": [
      "Input: 안녕하세요\n",
      "Output: 안녕하세요 \n",
      "Predicted tokens: [4158, 7954]\n"
     ]
    }
   ],
   "source": [
    "output = predict('안녕하세요', temperature=0.8)"
   ]
  },
  {
   "cell_type": "code",
   "execution_count": 127,
   "metadata": {},
   "outputs": [
    {
     "name": "stdout",
     "output_type": "stream",
     "text": [
      "Input: 안녕하세요\n",
      "Output: 안녕하세요주세요�수없지중에 차당신을 겨아니라고 고 �가라는 저도 이제 해메좋겠네요라는 순간아직 하게 하게 하게  . . . . . .마음은 마음대로 겁내보세요있었나봐요고메좋겠네요고\n",
      "Predicted tokens: [4158, 105, 8098, 179, 2262, 691, 262, 524, 1588, 1663, 16, 8156, 78, 921, 100, 57, 36, 1176, 222, 921, 1165, 161, 197, 197, 197, 1, 1, 1, 1, 1, 1, 980, 2651, 2390, 2125, 608, 111, 1176, 222, 111]\n"
     ]
    }
   ],
   "source": [
    "output = predict('안녕하세요', temperature=1.0)"
   ]
  },
  {
   "cell_type": "code",
   "execution_count": 128,
   "metadata": {},
   "outputs": [
    {
     "name": "stdout",
     "output_type": "stream",
     "text": [
      "Input: 안녕하세요\n",
      "Output: 안녕하세요 .이 때는 장 곱하나씩 일이 주세요사 하게 잡념다르죠일된다고 메귀로 한 드리고 이젠 지일익숙해한터하게 하게  .연락해봐요좋아요과챙겨드세요하게 걸 과\n",
      "Predicted tokens: [4158, 1, 11, 844, 1011, 4596, 530, 133, 105, 1326, 197, 6318, 5561, 303, 3622, 1176, 7740, 23, 1719, 251, 47, 303, 4039, 248, 1065, 197, 197, 1, 6578, 118, 804, 2814, 197, 85, 804]\n"
     ]
    }
   ],
   "source": [
    "output = predict('안녕하세요', temperature=1.2)"
   ]
  },
  {
   "cell_type": "code",
   "execution_count": 129,
   "metadata": {},
   "outputs": [
    {
     "name": "stdout",
     "output_type": "stream",
     "text": [
      "Input: 안녕하세요\n",
      "Output: 안녕하세요 .길 능력을 자연스러운 로 만한 많았어요네요네요o먹었어가 그건 환기사귀자\n",
      "Predicted tokens: [4158, 1, 91, 4494, 946, 93, 2329, 572, 81, 81, 8033, 3022, 27, 1120, 5820, 4275]\n"
     ]
    }
   ],
   "source": [
    "output = predict('안녕하세요', temperature=1.5)"
   ]
  },
  {
   "cell_type": "code",
   "execution_count": 130,
   "metadata": {},
   "outputs": [
    {
     "name": "stdout",
     "output_type": "stream",
     "text": [
      "Input: 안녕하세요\n",
      "Output: 안녕하세요때는 보지 쉬세요영 .\n",
      "Predicted tokens: [4158, 844, 967, 1417, 1090, 1]\n"
     ]
    }
   ],
   "source": [
    "output = predict('안녕하세요', temperature=0.7)"
   ]
  },
  {
   "cell_type": "code",
   "execution_count": 131,
   "metadata": {},
   "outputs": [
    {
     "name": "stdout",
     "output_type": "stream",
     "text": [
      "Input: 안녕하세요\n",
      "Output: 안녕하세요\n",
      "Predicted tokens: [4158]\n"
     ]
    }
   ],
   "source": [
    "output = predict('안녕하세요', temperature=0.5)"
   ]
  },
  {
   "cell_type": "code",
   "execution_count": 132,
   "metadata": {},
   "outputs": [
    {
     "name": "stdout",
     "output_type": "stream",
     "text": [
      "Input: 안녕하세요\n",
      "Output: 안녕하세요\n",
      "Predicted tokens: [4158]\n"
     ]
    }
   ],
   "source": [
    "output = predict('안녕하세요', temperature=0.3)"
   ]
  },
  {
   "cell_type": "code",
   "execution_count": 133,
   "metadata": {},
   "outputs": [
    {
     "name": "stdout",
     "output_type": "stream",
     "text": [
      "Input: 안녕하세요\n",
      "Output: 안녕하세요\n",
      "Predicted tokens: [4158]\n"
     ]
    }
   ],
   "source": [
    "output = predict('안녕하세요', temperature=0.1)"
   ]
  },
  {
   "cell_type": "code",
   "execution_count": null,
   "metadata": {},
   "outputs": [],
   "source": []
  }
 ],
 "metadata": {
  "accelerator": "GPU",
  "colab": {
   "collapsed_sections": [],
   "machine_shape": "hm",
   "name": "Transformer Korean Chatbot.ipynb",
   "provenance": []
  },
  "kernelspec": {
   "display_name": "Python 3 (ipykernel)",
   "language": "python",
   "name": "python3"
  },
  "language_info": {
   "codemirror_mode": {
    "name": "ipython",
    "version": 3
   },
   "file_extension": ".py",
   "mimetype": "text/x-python",
   "name": "python",
   "nbconvert_exporter": "python",
   "pygments_lexer": "ipython3",
   "version": "3.9.7"
  }
 },
 "nbformat": 4,
 "nbformat_minor": 1
}
