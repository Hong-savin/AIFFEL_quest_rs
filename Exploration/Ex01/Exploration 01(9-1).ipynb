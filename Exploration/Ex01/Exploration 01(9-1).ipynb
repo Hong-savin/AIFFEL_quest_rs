{
 "cells": [
  {
   "cell_type": "markdown",
   "id": "18c02c09",
   "metadata": {},
   "source": [
    "# (1) 데이터 가져오기\n",
    "sklearn.datasets의 load_diabetes에서 데이터를 가져와주세요.\n",
    "diabetes의 data를 df_X에, target을 df_y에 저장해주세요."
   ]
  },
  {
   "cell_type": "code",
   "execution_count": 1,
   "id": "e23ca0b5",
   "metadata": {},
   "outputs": [],
   "source": [
    "from sklearn.datasets import load_diabetes\n",
    "\n",
    "diabetes = load_diabetes()\n",
    "\n",
    "df_X = diabetes.data\n",
    "df_y = diabetes.target"
   ]
  },
  {
   "cell_type": "markdown",
   "id": "7db90e33",
   "metadata": {},
   "source": [
    "# (2) 모델에 입력할 데이터 X 준비하기\n",
    "df_X에 있는 값들을 numpy array로 변환해서 저장해주세요."
   ]
  },
  {
   "cell_type": "code",
   "execution_count": 2,
   "id": "beee973f",
   "metadata": {},
   "outputs": [],
   "source": [
    "import numpy as np\n",
    "\n",
    "df_X = np.array(df_X)"
   ]
  },
  {
   "cell_type": "markdown",
   "id": "7b4e03ce",
   "metadata": {},
   "source": [
    "# (3) 모델에 예측할 데이터 y 준비하기\n",
    "df_y에 있는 값들을 numpy array로 변환해서 저장해주세요."
   ]
  },
  {
   "cell_type": "code",
   "execution_count": 3,
   "id": "05930780",
   "metadata": {},
   "outputs": [],
   "source": [
    "df_y = np.array(df_y)"
   ]
  },
  {
   "cell_type": "markdown",
   "id": "57717422",
   "metadata": {},
   "source": [
    "# (4) train 데이터와 test 데이터로 분리하기\n",
    "X와 y 데이터를 각각 train 데이터와 test 데이터로 분리해주세요."
   ]
  },
  {
   "cell_type": "code",
   "execution_count": 4,
   "id": "944767bd",
   "metadata": {},
   "outputs": [],
   "source": [
    "from sklearn.model_selection import train_test_split\n",
    "\n",
    "X_train, X_test, y_train, y_test = train_test_split(df_X, df_y, test_size=0.2, random_state=42)"
   ]
  },
  {
   "cell_type": "code",
   "execution_count": 5,
   "id": "0a70a6e0",
   "metadata": {},
   "outputs": [
    {
     "data": {
      "text/plain": [
       "(442, 10)"
      ]
     },
     "execution_count": 5,
     "metadata": {},
     "output_type": "execute_result"
    }
   ],
   "source": [
    "df_X.shape"
   ]
  },
  {
   "cell_type": "markdown",
   "id": "eb99c84e",
   "metadata": {},
   "source": [
    "# (5) 모델 준비하기\n",
    "입력 데이터 개수에 맞는 가중치 W와 b를 준비해주세요.\n",
    "모델 함수를 구현해주세요."
   ]
  },
  {
   "cell_type": "code",
   "execution_count": 6,
   "id": "df714d98",
   "metadata": {},
   "outputs": [],
   "source": [
    "W = np.random.rand(10)\n",
    "b = np.random.rand()\n",
    "\n",
    "def model(X, W, b):\n",
    "    y_pred = [] # 예측값을 저장할 빈 리스트 생성\n",
    "    for i in range(len(X)):\n",
    "        # 데이터 특성 수만큼 가중치 * 데이터 + 데이터 샘플 수만큼 바이어스 더함(i는 데이터 샘플 수, j는 데이터 특성 수)\n",
    "        prediction = sum(W[j] * X[i][j] for j in range(len(W))) + b \n",
    "        y_pred.append(prediction) # 최종 예측값을 y_pred에 추가\n",
    "    return np.array(y_pred) # 최종 예측값을 array로 반환"
   ]
  },
  {
   "cell_type": "markdown",
   "id": "c788903d",
   "metadata": {},
   "source": [
    "# (6) 손실함수 loss 정의하기\n",
    "손실함수를 MSE 함수로 정의해주세요."
   ]
  },
  {
   "cell_type": "code",
   "execution_count": 7,
   "id": "fe99821b",
   "metadata": {},
   "outputs": [],
   "source": [
    "def loss(X, W, b, y):\n",
    "    predictions = model(X, W, b) # 랜덤값으로 만들어진 모델을 predictions 변수에 넣음\n",
    "    L = ((predictions - y) ** 2).mean() # 위 모델과 y의 오차를 제곱하여 평균한 MSE값으로 Loss 구함\n",
    "    return L"
   ]
  },
  {
   "cell_type": "markdown",
   "id": "f3e80b60",
   "metadata": {},
   "source": [
    "# (7) 기울기를 구하는 gradient 함수 구현하기\n",
    "기울기를 계산하는 gradient 함수를 구현해주세요."
   ]
  },
  {
   "cell_type": "code",
   "execution_count": 8,
   "id": "178c73aa",
   "metadata": {},
   "outputs": [],
   "source": [
    "def gradient(X, W, b, y):\n",
    "    N = len(y) # 데이터 샘플 개수\n",
    "    y_pred = model(X, W, b) # 난수값으로 만든 모델 생성\n",
    "    dW = 1/N * 2 * X.T.dot(y_pred - y) # W의 gradient 계산\n",
    "    db = 2 * (y_pred - y).mean() # b의 gradient 계산\n",
    "    return dW, db"
   ]
  },
  {
   "cell_type": "markdown",
   "id": "29ee9a37",
   "metadata": {},
   "source": [
    "# (8) 하이퍼 파라미터인 학습률 설정하기\n",
    "학습률, learning rate 를 설정해주세요\n",
    "만약 학습이 잘 되지 않는다면 learning rate 값을 한번 여러 가지로 설정하며 실험해 보세요."
   ]
  },
  {
   "cell_type": "code",
   "execution_count": 9,
   "id": "11ec7dd5",
   "metadata": {},
   "outputs": [],
   "source": [
    "LEARNING_RATE = 0.9"
   ]
  },
  {
   "cell_type": "markdown",
   "id": "dae699ea",
   "metadata": {},
   "source": [
    "# (9) 모델 학습하기\n",
    "정의된 손실함수와 기울기 함수로 모델을 학습해주세요.\n",
    "loss값이 충분히 떨어질 때까지 학습을 진행해주세요.\n",
    "입력하는 데이터인 X에 들어가는 특성 컬럼들을 몇 개 빼도 괜찮습니다. 다양한 데이터로 실험해 보세요."
   ]
  },
  {
   "cell_type": "code",
   "execution_count": 10,
   "id": "453acc30",
   "metadata": {},
   "outputs": [
    {
     "name": "stdout",
     "output_type": "stream",
     "text": [
      "1000번째 반복: 손실값 2898.7595\n",
      "2000번째 반복: 손실값 2895.5044\n",
      "3000번째 반복: 손실값 2893.5335\n",
      "4000번째 반복: 손실값 2891.7170\n",
      "5000번째 반복: 손실값 2890.0342\n",
      "6000번째 반복: 손실값 2888.4745\n",
      "7000번째 반복: 손실값 2887.0283\n",
      "8000번째 반복: 손실값 2885.6874\n",
      "9000번째 반복: 손실값 2884.4439\n",
      "10000번째 반복: 손실값 2883.2906\n"
     ]
    }
   ],
   "source": [
    "losses = [] # 손실값 저장할 리스트\n",
    "\n",
    "for i in range(1, 10001):\n",
    "    dW, db = gradient(X_train, W, b, y_train) # 기울기 계산\n",
    "    W -= LEARNING_RATE * dW # 가중치를 학습률과 기울기를 통해 업데이트\n",
    "    b -= LEARNING_RATE * db # 바이어스를 학습률과 기울기를 통해 업데이트\n",
    "    L = loss(X_train, W, b, y_train) # 현재 가중치와 바이어스에서 손실값 계산\n",
    "    losses.append(L) # 손실값을 리스트에 추가\n",
    "    if i % 1000 == 0:\n",
    "        print('%d번째 반복: 손실값 %0.4f' % (i, L))"
   ]
  },
  {
   "cell_type": "markdown",
   "id": "8d1a1882",
   "metadata": {},
   "source": [
    "# (10) test 데이터에 대한 성능 확인하기\n",
    "test 데이터에 대한 성능을 확인해주세요."
   ]
  },
  {
   "cell_type": "code",
   "execution_count": 11,
   "id": "e03db38c",
   "metadata": {},
   "outputs": [
    {
     "data": {
      "text/plain": [
       "2886.5765915559714"
      ]
     },
     "execution_count": 11,
     "metadata": {},
     "output_type": "execute_result"
    }
   ],
   "source": [
    "prediction = model(X_test, W, b) # 테스트 데이터에 대해 모델을 사용하여 예측값을 계산\n",
    "mse = loss(X_test, W, b, y_test) # 테스트 데이터에서의 손실(MSE) 계산\n",
    "mse # 손실값 출력"
   ]
  },
  {
   "cell_type": "markdown",
   "id": "0a015078",
   "metadata": {},
   "source": [
    "# (11) 정답 데이터와 예측한 데이터 시각화하기\n",
    "x축에는 X 데이터의 첫 번째 컬럼을, y축에는 정답인 target 데이터를 넣어서 모델이 예측한 데이터를 시각화해 주세요."
   ]
  },
  {
   "cell_type": "code",
   "execution_count": 12,
   "id": "4f4a831a",
   "metadata": {},
   "outputs": [
    {
     "data": {
      "image/png": "[encoded data removed]",
      "text/plain": [
       "<Figure size 720x432 with 1 Axes>"
      ]
     },
     "metadata": {
      "needs_background": "light"
     },
     "output_type": "display_data"
    }
   ],
   "source": [
    "import matplotlib.pyplot as plt\n",
    "\n",
    "# x축에는 X_test의 첫 번째 컬럼, y축에는 target\n",
    "plt.figure(figsize=(10, 6))\n",
    "plt.scatter(X_test[:, 0], y_test, color='blue', label='Real Value')\n",
    "plt.scatter(X_test[:, 0], prediction, color='red', label='Predict Value', alpha=0.6)\n",
    "\n",
    "plt.title('Real Value vs Predict Value')\n",
    "plt.xlabel('X_test[:, 0]')\n",
    "plt.ylabel('Target Value')\n",
    "plt.legend()\n",
    "plt.show()"
   ]
  },
  {
   "cell_type": "code",
   "execution_count": 13,
   "id": "0700054d",
   "metadata": {},
   "outputs": [
    {
     "data": {
      "text/plain": [
       "' 회고\\n어떠한 수행을 거쳐도 Loss 값이 2883 근처로 나와서 아쉬웠습니다.\\n그래도 처음에 learning_rate = 1, 반복 2000번으로 수행했으나 Loss 값이 만단위라 \\n계속해서 러닝레이트와 반복횟수를 조정하여 Loss를 2885 미만으로 획득했습니다.\\n프로젝트를 진행하며 에러는 시각화 부분에서 title, label을 한글로 적어\\n글자가 깨져보여 다시 영어로 수정한 부분 외에는 없습니다.\\n'"
      ]
     },
     "execution_count": 13,
     "metadata": {},
     "output_type": "execute_result"
    }
   ],
   "source": [
    "''' 회고\n",
    "어떠한 수행을 거쳐도 Loss 값이 2883 근처로 나와서 아쉬웠습니다.\n",
    "그래도 처음에 learning_rate = 1, 반복 2000번으로 수행했으나 Loss 값이 만단위라 \n",
    "계속해서 러닝레이트와 반복횟수를 조정하여 Loss를 2885 미만으로 획득했습니다.\n",
    "프로젝트를 진행하며 에러는 시각화 부분에서 title, label을 한글로 적어\n",
    "글자가 깨져보여 다시 영어로 수정한 부분 외에는 없습니다.\n",
    "'''"
   ]
  }
 ],
 "metadata": {
  "kernelspec": {
   "display_name": "Python 3 (ipykernel)",
   "language": "python",
   "name": "python3"
  },
  "language_info": {
   "codemirror_mode": {
    "name": "ipython",
    "version": 3
   },
   "file_extension": ".py",
   "mimetype": "text/x-python",
   "name": "python",
   "nbconvert_exporter": "python",
   "pygments_lexer": "ipython3",
   "version": "3.9.7"
  }
 },
 "nbformat": 4,
 "nbformat_minor": 5
}
