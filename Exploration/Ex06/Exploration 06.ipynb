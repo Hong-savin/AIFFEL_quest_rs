{
 "cells": [
  {
   "cell_type": "markdown",
   "metadata": {
    "id": "crHy_gcU8QOR"
   },
   "source": [
    "# 주요 라이브러리 버전을 확인"
   ]
  },
  {
   "cell_type": "code",
   "execution_count": 1,
   "metadata": {
    "colab": {
     "base_uri": "https://localhost:8080/"
    },
    "id": "aga42ccbJok6",
    "outputId": "e5be68f4-f666-4a05-f9e7-a9b3eef033c5"
   },
   "outputs": [
    {
     "name": "stdout",
     "output_type": "stream",
     "text": [
      "Requirement already satisfied: summa in /opt/conda/lib/python3.9/site-packages (1.2.0)\n",
      "Requirement already satisfied: scipy>=0.19 in /opt/conda/lib/python3.9/site-packages (from summa) (1.7.1)\n",
      "Requirement already satisfied: numpy<1.23.0,>=1.16.5 in /opt/conda/lib/python3.9/site-packages (from scipy>=0.19->summa) (1.21.4)\n",
      "\u001b[33mWARNING: Running pip as the 'root' user can result in broken permissions and conflicting behaviour with the system package manager. It is recommended to use a virtual environment instead: https://pip.pypa.io/warnings/venv\u001b[0m\n"
     ]
    }
   ],
   "source": [
    "!pip install summa"
   ]
  },
  {
   "cell_type": "code",
   "execution_count": 2,
   "metadata": {
    "colab": {
     "base_uri": "https://localhost:8080/"
    },
    "id": "29Ees_XO8TSE",
    "outputId": "6733c75b-21c3-4d93-da44-7af68dd53ffe"
   },
   "outputs": [
    {
     "name": "stderr",
     "output_type": "stream",
     "text": [
      "[nltk_data] Downloading package stopwords to /aiffel/nltk_data...\n",
      "[nltk_data]   Package stopwords is already up-to-date!\n"
     ]
    },
    {
     "name": "stdout",
     "output_type": "stream",
     "text": [
      "3.6.5\n",
      "2.6.0\n",
      "1.3.3\n",
      "1.2.0\n"
     ]
    }
   ],
   "source": [
    "from importlib.metadata import version\n",
    "import nltk\n",
    "import tensorflow\n",
    "import summa\n",
    "import pandas as pd\n",
    "import nltk\n",
    "nltk.download('stopwords')\n",
    "import numpy as np\n",
    "import os\n",
    "import re\n",
    "import matplotlib.pyplot as plt\n",
    "from nltk.corpus import stopwords\n",
    "from bs4 import BeautifulSoup\n",
    "from tensorflow.keras.preprocessing.text import Tokenizer\n",
    "from tensorflow.keras.preprocessing.sequence import pad_sequences\n",
    "import urllib.request\n",
    "import warnings\n",
    "\n",
    "warnings.filterwarnings(\"ignore\", category=UserWarning, module='bs4')\n",
    "print(nltk.__version__)\n",
    "print(tensorflow.__version__)\n",
    "print(pd.__version__)\n",
    "print(version('summa'))"
   ]
  },
  {
   "cell_type": "markdown",
   "metadata": {
    "id": "Kk8CVGDf8Vro"
   },
   "source": [
    "# Step 1. 데이터 수집하기"
   ]
  },
  {
   "cell_type": "code",
   "execution_count": 3,
   "metadata": {
    "colab": {
     "base_uri": "https://localhost:8080/"
    },
    "id": "2IdrpKOK8URv",
    "outputId": "b31f7d97-4fba-454d-b405-eccca067461c"
   },
   "outputs": [
    {
     "name": "stdout",
     "output_type": "stream",
     "text": [
      "전체 샘플수 : 98401\n"
     ]
    }
   ],
   "source": [
    "import urllib.request\n",
    "urllib.request.urlretrieve(\"https://raw.githubusercontent.com/sunnysai12345/News_Summary/master/news_summary_more.csv\", filename=\"news_summary_more.csv\")\n",
    "data = pd.read_csv('news_summary_more.csv', encoding='iso-8859-1')\n",
    "print('전체 샘플수 :', (len(data)))"
   ]
  },
  {
   "cell_type": "code",
   "execution_count": 4,
   "metadata": {
    "colab": {
     "base_uri": "https://localhost:8080/",
     "height": 536
    },
    "id": "lri_pxVk8YNM",
    "outputId": "f598a145-f84b-455e-ae70-12f65ca608da"
   },
   "outputs": [
    {
     "data": {
      "text/html": [
       "<div>\n",
       "<style scoped>\n",
       "    .dataframe tbody tr th:only-of-type {\n",
       "        vertical-align: middle;\n",
       "    }\n",
       "\n",
       "    .dataframe tbody tr th {\n",
       "        vertical-align: top;\n",
       "    }\n",
       "\n",
       "    .dataframe thead th {\n",
       "        text-align: right;\n",
       "    }\n",
       "</style>\n",
       "<table border=\"1\" class=\"dataframe\">\n",
       "  <thead>\n",
       "    <tr style=\"text-align: right;\">\n",
       "      <th></th>\n",
       "      <th>headlines</th>\n",
       "      <th>text</th>\n",
       "    </tr>\n",
       "  </thead>\n",
       "  <tbody>\n",
       "    <tr>\n",
       "      <th>25646</th>\n",
       "      <td>Warren Buffett donates $3.4 billion to charities</td>\n",
       "      <td>Warren Buffett has donated around $3.4 billion...</td>\n",
       "    </tr>\n",
       "    <tr>\n",
       "      <th>382</th>\n",
       "      <td>Ex-Karnataka CM snatches woman's mic at public...</td>\n",
       "      <td>In a video that has gone viral, former Karnata...</td>\n",
       "    </tr>\n",
       "    <tr>\n",
       "      <th>68758</th>\n",
       "      <td>Major bus stations to have breastfeeding rooms...</td>\n",
       "      <td>The Bangalore Metropolitan Transport Corporati...</td>\n",
       "    </tr>\n",
       "    <tr>\n",
       "      <th>76838</th>\n",
       "      <td>India to witness partial lunar eclipse on Augu...</td>\n",
       "      <td>A lunar eclipse will occur on August 7 night, ...</td>\n",
       "    </tr>\n",
       "    <tr>\n",
       "      <th>57210</th>\n",
       "      <td>EVMs rigged via Bluetooth: Congress Gujarat ca...</td>\n",
       "      <td>Arjun Modhwadia, Congress' nominee from the Po...</td>\n",
       "    </tr>\n",
       "    <tr>\n",
       "      <th>35503</th>\n",
       "      <td>Food regulatory body proposes colour coding un...</td>\n",
       "      <td>The Food Safety and Standards Authority of Ind...</td>\n",
       "    </tr>\n",
       "    <tr>\n",
       "      <th>62081</th>\n",
       "      <td>Snap loses nearly $40 million on unsold camera...</td>\n",
       "      <td>US-based Snap, maker of photo-sharing app Snap...</td>\n",
       "    </tr>\n",
       "    <tr>\n",
       "      <th>11201</th>\n",
       "      <td>Nigerian Army cites Trump to justify shooting ...</td>\n",
       "      <td>The Nigerian Army tweeted a video of US Presid...</td>\n",
       "    </tr>\n",
       "    <tr>\n",
       "      <th>32102</th>\n",
       "      <td>Centre in sheer contempt: SC on Cauvery water ...</td>\n",
       "      <td>The Supreme Court on Tuesday said the Centre i...</td>\n",
       "    </tr>\n",
       "    <tr>\n",
       "      <th>19392</th>\n",
       "      <td>Federer slams umpire for giving 'pep talk' to ...</td>\n",
       "      <td>Twenty-time Grand Slam champion Roger Federer ...</td>\n",
       "    </tr>\n",
       "  </tbody>\n",
       "</table>\n",
       "</div>"
      ],
      "text/plain": [
       "                                               headlines  \\\n",
       "25646   Warren Buffett donates $3.4 billion to charities   \n",
       "382    Ex-Karnataka CM snatches woman's mic at public...   \n",
       "68758  Major bus stations to have breastfeeding rooms...   \n",
       "76838  India to witness partial lunar eclipse on Augu...   \n",
       "57210  EVMs rigged via Bluetooth: Congress Gujarat ca...   \n",
       "35503  Food regulatory body proposes colour coding un...   \n",
       "62081  Snap loses nearly $40 million on unsold camera...   \n",
       "11201  Nigerian Army cites Trump to justify shooting ...   \n",
       "32102  Centre in sheer contempt: SC on Cauvery water ...   \n",
       "19392  Federer slams umpire for giving 'pep talk' to ...   \n",
       "\n",
       "                                                    text  \n",
       "25646  Warren Buffett has donated around $3.4 billion...  \n",
       "382    In a video that has gone viral, former Karnata...  \n",
       "68758  The Bangalore Metropolitan Transport Corporati...  \n",
       "76838  A lunar eclipse will occur on August 7 night, ...  \n",
       "57210  Arjun Modhwadia, Congress' nominee from the Po...  \n",
       "35503  The Food Safety and Standards Authority of Ind...  \n",
       "62081  US-based Snap, maker of photo-sharing app Snap...  \n",
       "11201  The Nigerian Army tweeted a video of US Presid...  \n",
       "32102  The Supreme Court on Tuesday said the Centre i...  \n",
       "19392  Twenty-time Grand Slam champion Roger Federer ...  "
      ]
     },
     "execution_count": 4,
     "metadata": {},
     "output_type": "execute_result"
    }
   ],
   "source": [
    "data.sample(10)"
   ]
  },
  {
   "cell_type": "markdown",
   "metadata": {
    "id": "aw7UNZpM8a4H"
   },
   "source": [
    "# Step 2. 데이터 전처리하기 (추상적 요약)\n",
    "#### 실습에서 사용된 전처리를 참고하여 각자 필요하다고 생각하는 전처리를 추가 사용하여 텍스트를 정규화 또는 정제해 보세요. 만약, 불용어 제거를 선택한다면 상대적으로 길이가 짧은 요약 데이터에 대해서도 불용어를 제거하는 것이 좋을지 고민해 보세요."
   ]
  },
  {
   "cell_type": "markdown",
   "metadata": {
    "id": "o2zg4XrnBxtt"
   },
   "source": [
    "### 중복 샘플과 NULL 값이 존재하는 샘플 제거"
   ]
  },
  {
   "cell_type": "code",
   "execution_count": 5,
   "metadata": {
    "colab": {
     "base_uri": "https://localhost:8080/"
    },
    "id": "JG9-XrmB8Zkp",
    "outputId": "e9c279d8-2c17-4484-ba89-45e267a58b4d"
   },
   "outputs": [
    {
     "name": "stdout",
     "output_type": "stream",
     "text": [
      "Text 열에서 중복을 배제한 유일한 샘플의 수 : 98360\n",
      "Headlines 열에서 중복을 배제한 유일한 샘플의 수 : 98280\n"
     ]
    }
   ],
   "source": [
    "print('Text 열에서 중복을 배제한 유일한 샘플의 수 :', data['text'].nunique())\n",
    "print('Headlines 열에서 중복을 배제한 유일한 샘플의 수 :', data['headlines'].nunique())"
   ]
  },
  {
   "cell_type": "code",
   "execution_count": 6,
   "metadata": {
    "colab": {
     "base_uri": "https://localhost:8080/"
    },
    "id": "kovp52yX8dtt",
    "outputId": "2e086ae6-8474-48bd-cb75-791700717de9"
   },
   "outputs": [
    {
     "name": "stdout",
     "output_type": "stream",
     "text": [
      "text 전체 샘플수 : 98360\n",
      "headlines 전체 샘플수 : 98262\n"
     ]
    }
   ],
   "source": [
    "data.drop_duplicates(subset = ['text'], inplace=True)\n",
    "print('text 전체 샘플수 :', (len(data)))\n",
    "data.drop_duplicates(subset = ['headlines'], inplace=True)\n",
    "print('headlines 전체 샘플수 :', (len(data)))"
   ]
  },
  {
   "cell_type": "code",
   "execution_count": 7,
   "metadata": {
    "colab": {
     "base_uri": "https://localhost:8080/"
    },
    "id": "v2DbdFZt8e1w",
    "outputId": "aceb7eff-cb95-4f20-cdfb-f5f3c090c343"
   },
   "outputs": [
    {
     "name": "stdout",
     "output_type": "stream",
     "text": [
      "headlines    0\n",
      "text         0\n",
      "dtype: int64\n"
     ]
    }
   ],
   "source": [
    "print(data.isnull().sum())"
   ]
  },
  {
   "cell_type": "code",
   "execution_count": 8,
   "metadata": {
    "colab": {
     "base_uri": "https://localhost:8080/"
    },
    "id": "oWyQJgEd8fu9",
    "outputId": "2fa236eb-c2fb-4273-cfe2-0461c0aa66e5"
   },
   "outputs": [
    {
     "name": "stdout",
     "output_type": "stream",
     "text": [
      "전체 샘플수 : 98262\n"
     ]
    }
   ],
   "source": [
    "data.dropna(axis=0, inplace=True)\n",
    "print('전체 샘플수 :', (len(data)))"
   ]
  },
  {
   "cell_type": "markdown",
   "metadata": {
    "id": "RUDxuk6-B3kX"
   },
   "source": [
    "### 텍스트 정규화와 불용어 제거"
   ]
  },
  {
   "cell_type": "code",
   "execution_count": 9,
   "metadata": {
    "colab": {
     "base_uri": "https://localhost:8080/"
    },
    "id": "ifyO9GIb8glN",
    "outputId": "14e1db3e-fa9b-4f83-dc97-fa7f19c18ae6"
   },
   "outputs": [
    {
     "name": "stdout",
     "output_type": "stream",
     "text": [
      "정규화 사전의 수:  120\n"
     ]
    }
   ],
   "source": [
    "contractions = {\"ain't\": \"is not\", \"aren't\": \"are not\",\"can't\": \"cannot\", \"'cause\": \"because\", \"could've\": \"could have\", \"couldn't\": \"could not\",\n",
    "                           \"didn't\": \"did not\",  \"doesn't\": \"does not\", \"don't\": \"do not\", \"hadn't\": \"had not\", \"hasn't\": \"has not\", \"haven't\": \"have not\",\n",
    "                           \"he'd\": \"he would\",\"he'll\": \"he will\", \"he's\": \"he is\", \"how'd\": \"how did\", \"how'd'y\": \"how do you\", \"how'll\": \"how will\", \"how's\": \"how is\",\n",
    "                           \"I'd\": \"I would\", \"I'd've\": \"I would have\", \"I'll\": \"I will\", \"I'll've\": \"I will have\",\"I'm\": \"I am\", \"I've\": \"I have\", \"i'd\": \"i would\",\n",
    "                           \"i'd've\": \"i would have\", \"i'll\": \"i will\",  \"i'll've\": \"i will have\",\"i'm\": \"i am\", \"i've\": \"i have\", \"isn't\": \"is not\", \"it'd\": \"it would\",\n",
    "                           \"it'd've\": \"it would have\", \"it'll\": \"it will\", \"it'll've\": \"it will have\",\"it's\": \"it is\", \"let's\": \"let us\", \"ma'am\": \"madam\",\n",
    "                           \"mayn't\": \"may not\", \"might've\": \"might have\",\"mightn't\": \"might not\",\"mightn't've\": \"might not have\", \"must've\": \"must have\",\n",
    "                           \"mustn't\": \"must not\", \"mustn't've\": \"must not have\", \"needn't\": \"need not\", \"needn't've\": \"need not have\",\"o'clock\": \"of the clock\",\n",
    "                           \"oughtn't\": \"ought not\", \"oughtn't've\": \"ought not have\", \"shan't\": \"shall not\", \"sha'n't\": \"shall not\", \"shan't've\": \"shall not have\",\n",
    "                           \"she'd\": \"she would\", \"she'd've\": \"she would have\", \"she'll\": \"she will\", \"she'll've\": \"she will have\", \"she's\": \"she is\",\n",
    "                           \"should've\": \"should have\", \"shouldn't\": \"should not\", \"shouldn't've\": \"should not have\", \"so've\": \"so have\",\"so's\": \"so as\",\n",
    "                           \"this's\": \"this is\",\"that'd\": \"that would\", \"that'd've\": \"that would have\", \"that's\": \"that is\", \"there'd\": \"there would\",\n",
    "                           \"there'd've\": \"there would have\", \"there's\": \"there is\", \"here's\": \"here is\",\"they'd\": \"they would\", \"they'd've\": \"they would have\",\n",
    "                           \"they'll\": \"they will\", \"they'll've\": \"they will have\", \"they're\": \"they are\", \"they've\": \"they have\", \"to've\": \"to have\",\n",
    "                           \"wasn't\": \"was not\", \"we'd\": \"we would\", \"we'd've\": \"we would have\", \"we'll\": \"we will\", \"we'll've\": \"we will have\", \"we're\": \"we are\",\n",
    "                           \"we've\": \"we have\", \"weren't\": \"were not\", \"what'll\": \"what will\", \"what'll've\": \"what will have\", \"what're\": \"what are\",\n",
    "                           \"what's\": \"what is\", \"what've\": \"what have\", \"when's\": \"when is\", \"when've\": \"when have\", \"where'd\": \"where did\", \"where's\": \"where is\",\n",
    "                           \"where've\": \"where have\", \"who'll\": \"who will\", \"who'll've\": \"who will have\", \"who's\": \"who is\", \"who've\": \"who have\",\n",
    "                           \"why's\": \"why is\", \"why've\": \"why have\", \"will've\": \"will have\", \"won't\": \"will not\", \"won't've\": \"will not have\",\n",
    "                           \"would've\": \"would have\", \"wouldn't\": \"would not\", \"wouldn't've\": \"would not have\", \"y'all\": \"you all\",\n",
    "                           \"y'all'd\": \"you all would\",\"y'all'd've\": \"you all would have\",\"y'all're\": \"you all are\",\"y'all've\": \"you all have\",\n",
    "                           \"you'd\": \"you would\", \"you'd've\": \"you would have\", \"you'll\": \"you will\", \"you'll've\": \"you will have\",\n",
    "                           \"you're\": \"you are\", \"you've\": \"you have\"}\n",
    "\n",
    "print(\"정규화 사전의 수: \", len(contractions))"
   ]
  },
  {
   "cell_type": "code",
   "execution_count": 10,
   "metadata": {
    "colab": {
     "base_uri": "https://localhost:8080/"
    },
    "id": "ydOKgVan8hh8",
    "outputId": "e2cb81fc-cdc9-4f1c-de49-b3db05f01ffe"
   },
   "outputs": [
    {
     "name": "stdout",
     "output_type": "stream",
     "text": [
      "불용어 개수 : 179\n",
      "['i', 'me', 'my', 'myself', 'we', 'our', 'ours', 'ourselves', 'you', \"you're\", \"you've\", \"you'll\", \"you'd\", 'your', 'yours', 'yourself', 'yourselves', 'he', 'him', 'his', 'himself', 'she', \"she's\", 'her', 'hers', 'herself', 'it', \"it's\", 'its', 'itself', 'they', 'them', 'their', 'theirs', 'themselves', 'what', 'which', 'who', 'whom', 'this', 'that', \"that'll\", 'these', 'those', 'am', 'is', 'are', 'was', 'were', 'be', 'been', 'being', 'have', 'has', 'had', 'having', 'do', 'does', 'did', 'doing', 'a', 'an', 'the', 'and', 'but', 'if', 'or', 'because', 'as', 'until', 'while', 'of', 'at', 'by', 'for', 'with', 'about', 'against', 'between', 'into', 'through', 'during', 'before', 'after', 'above', 'below', 'to', 'from', 'up', 'down', 'in', 'out', 'on', 'off', 'over', 'under', 'again', 'further', 'then', 'once', 'here', 'there', 'when', 'where', 'why', 'how', 'all', 'any', 'both', 'each', 'few', 'more', 'most', 'other', 'some', 'such', 'no', 'nor', 'not', 'only', 'own', 'same', 'so', 'than', 'too', 'very', 's', 't', 'can', 'will', 'just', 'don', \"don't\", 'should', \"should've\", 'now', 'd', 'll', 'm', 'o', 're', 've', 'y', 'ain', 'aren', \"aren't\", 'couldn', \"couldn't\", 'didn', \"didn't\", 'doesn', \"doesn't\", 'hadn', \"hadn't\", 'hasn', \"hasn't\", 'haven', \"haven't\", 'isn', \"isn't\", 'ma', 'mightn', \"mightn't\", 'mustn', \"mustn't\", 'needn', \"needn't\", 'shan', \"shan't\", 'shouldn', \"shouldn't\", 'wasn', \"wasn't\", 'weren', \"weren't\", 'won', \"won't\", 'wouldn', \"wouldn't\"]\n"
     ]
    }
   ],
   "source": [
    "print('불용어 개수 :', len(stopwords.words('english') ))\n",
    "print(stopwords.words('english'))"
   ]
  },
  {
   "cell_type": "code",
   "execution_count": 11,
   "metadata": {
    "colab": {
     "base_uri": "https://localhost:8080/"
    },
    "id": "QtdAs-IO8ivS",
    "outputId": "3b84164e-5d89-4fc7-efb5-2b0ef45000a1"
   },
   "outputs": [
    {
     "data": {
      "text/html": [
       "<div>\n",
       "<style scoped>\n",
       "    .dataframe tbody tr th:only-of-type {\n",
       "        vertical-align: middle;\n",
       "    }\n",
       "\n",
       "    .dataframe tbody tr th {\n",
       "        vertical-align: top;\n",
       "    }\n",
       "\n",
       "    .dataframe thead th {\n",
       "        text-align: right;\n",
       "    }\n",
       "</style>\n",
       "<table border=\"1\" class=\"dataframe\">\n",
       "  <thead>\n",
       "    <tr style=\"text-align: right;\">\n",
       "      <th></th>\n",
       "      <th>headlines</th>\n",
       "      <th>text</th>\n",
       "    </tr>\n",
       "  </thead>\n",
       "  <tbody>\n",
       "    <tr>\n",
       "      <th>0</th>\n",
       "      <td>upgrad learner switches to career in ml   al w...</td>\n",
       "      <td>saurav kant  an alumnus of upgrad and iiit b p...</td>\n",
       "    </tr>\n",
       "    <tr>\n",
       "      <th>1</th>\n",
       "      <td>delhi techie wins free food from swiggy for on...</td>\n",
       "      <td>kunal shah credit card bill payment platform  ...</td>\n",
       "    </tr>\n",
       "    <tr>\n",
       "      <th>2</th>\n",
       "      <td>new zealand end rohit sharma led india    matc...</td>\n",
       "      <td>new zealand defeated india by   wickets in the...</td>\n",
       "    </tr>\n",
       "    <tr>\n",
       "      <th>3</th>\n",
       "      <td>aegon life iterm insurance plan helps customer...</td>\n",
       "      <td>with aegon life iterm insurance plan  customer...</td>\n",
       "    </tr>\n",
       "    <tr>\n",
       "      <th>4</th>\n",
       "      <td>have known hirani for yrs  what if metoo claim...</td>\n",
       "      <td>speaking about the sexual harassment allegatio...</td>\n",
       "    </tr>\n",
       "  </tbody>\n",
       "</table>\n",
       "</div>"
      ],
      "text/plain": [
       "                                           headlines  \\\n",
       "0  upgrad learner switches to career in ml   al w...   \n",
       "1  delhi techie wins free food from swiggy for on...   \n",
       "2  new zealand end rohit sharma led india    matc...   \n",
       "3  aegon life iterm insurance plan helps customer...   \n",
       "4  have known hirani for yrs  what if metoo claim...   \n",
       "\n",
       "                                                text  \n",
       "0  saurav kant  an alumnus of upgrad and iiit b p...  \n",
       "1  kunal shah credit card bill payment platform  ...  \n",
       "2  new zealand defeated india by   wickets in the...  \n",
       "3  with aegon life iterm insurance plan  customer...  \n",
       "4  speaking about the sexual harassment allegatio...  "
      ]
     },
     "execution_count": 11,
     "metadata": {},
     "output_type": "execute_result"
    }
   ],
   "source": [
    "# 데이터 전처리 함수 - 추상적 요약(정규화, 불필요한 정보 제거)\n",
    "def preprocess_sentence(sentence, remove_stopwords=True):\n",
    "    if sentence is None:  # None 값 처리\n",
    "        return ''\n",
    "    sentence = sentence.lower() # 텍스트 소문자화\n",
    "    sentence = BeautifulSoup(sentence, \"lxml\").text # <br />, <a href = ...> 등의 html 태그 제거\n",
    "    sentence = re.sub(r'\\([^)]*\\)', '', sentence) # 괄호로 닫힌 문자열 (...) 제거 Ex) my husband (and myself!) for => my husband for\n",
    "    sentence = re.sub('\"','', sentence) # 쌍따옴표 \" 제거\n",
    "    sentence = ' '.join([contractions[t] if t in contractions else t for t in sentence.split(\" \")]) # 약어 정규화\n",
    "    sentence = re.sub(r\"'s\\b\",\"\", sentence) # 소유격 제거. Ex) roland's -> roland\n",
    "    sentence = re.sub(\"[^a-zA-Z]\", \" \", sentence) # 영어 외 문자(숫자, 특수문자 등) 공백으로 변환\n",
    "    sentence = re.sub('[m]{2,}', 'mm', sentence) # m이 3개 이상이면 2개로 변경. Ex) ummmmmmm yeah -> umm yeah\n",
    "    return sentence  # 전처리된 문장을 반환\n",
    "\n",
    "# 본문(text)에 대해서는 불용어 제거 적용\n",
    "data['text'] = data['text'].apply(lambda x: preprocess_sentence(x, remove_stopwords=True))\n",
    "\n",
    "# 요약(headlines)에 대해서는 불용어 제거 미적용\n",
    "data['headlines'] = data['headlines'].apply(lambda x: preprocess_sentence(x, remove_stopwords=False))\n",
    "\n",
    "# 데이터 전처리 결과 확인\n",
    "data.head()\n"
   ]
  },
  {
   "cell_type": "code",
   "execution_count": 12,
   "metadata": {
    "id": "ysI1MPlC8jwq"
   },
   "outputs": [
    {
     "name": "stdout",
     "output_type": "stream",
     "text": [
      "Text 전처리 후 결과:  ['saurav kant  an alumnus of upgrad and iiit b pg program in machine learning and artificial intelligence  was a sr systems engineer at infosys with almost   years of work experience  the program and upgrad     degree career support helped him transition to a data scientist at tech mahindra with     salary hike  upgrad online power learning has powered   lakh  careers ', 'kunal shah credit card bill payment platform  cred  gave users a chance to win free food from swiggy for one year  pranav kaushik  a delhi techie  bagged this reward after spending      cred coins  users get one cred coin per rupee of bill paid  which can be used to avail rewards from brands like ixigo  bookmyshow  ubereats  cult fit and more ', 'new zealand defeated india by   wickets in the fourth odi at hamilton on thursday to win their first match of the five match odi series  india lost an international match under rohit sharma captaincy after    consecutive victories dating back to march       the match witnessed india getting all out for     their seventh lowest total in odi cricket history ', 'with aegon life iterm insurance plan  customers can enjoy tax benefits on your premiums paid and save up to               on taxes  the plan provides life cover up to the age of     years  also  customers have options to insure against critical illnesses  disability and accidental death benefit rider with a life cover up to the age of    years ', 'speaking about the sexual harassment allegations against rajkumar hirani  sonam kapoor said  i have known hirani for many years   what if it is not true  the   metoo  movement will get derailed  in the  metoo movement  i always believe a woman  but in this case  we need to reserve our judgment  she added  hirani has been accused by an assistant who worked in  sanju  ']\n"
     ]
    }
   ],
   "source": [
    "clean_text = []\n",
    "\n",
    "for text in data['text']:\n",
    "    processed_text = preprocess_sentence(text)\n",
    "    clean_text.append(processed_text)\n",
    "\n",
    "\n",
    "# 전처리 후 출력\n",
    "print(\"Text 전처리 후 결과: \", clean_text[:5])"
   ]
  },
  {
   "cell_type": "code",
   "execution_count": 13,
   "metadata": {
    "id": "XjWwXnJ68ktt"
   },
   "outputs": [
    {
     "name": "stdout",
     "output_type": "stream",
     "text": [
      "Headlines 전처리 후 결과:  ['upgrad learner switches to career in ml   al with     salary hike', 'delhi techie wins free food from swiggy for one year on cred', 'new zealand end rohit sharma led india    match winning streak', 'aegon life iterm insurance plan helps customers save tax', 'have known hirani for yrs  what if metoo claims are not true  sonam']\n"
     ]
    }
   ],
   "source": [
    "clean_headlines = []\n",
    "\n",
    "for headlines in data['headlines']:\n",
    "    processed_headlines = preprocess_sentence(headlines)\n",
    "    clean_headlines.append(processed_headlines)\n",
    "\n",
    "\n",
    "# 전처리 후 출력\n",
    "print(\"Headlines 전처리 후 결과: \", clean_headlines[:5])"
   ]
  },
  {
   "cell_type": "code",
   "execution_count": 14,
   "metadata": {
    "id": "4l0_5JR_8lxs"
   },
   "outputs": [],
   "source": [
    "data['text'] = clean_text\n",
    "data['headlines'] = clean_headlines\n",
    "\n",
    "# 빈 값을 Null 값으로 변환\n",
    "data.replace('', np.nan, inplace=True)"
   ]
  },
  {
   "cell_type": "code",
   "execution_count": 15,
   "metadata": {
    "id": "d5ZhegA48mpJ"
   },
   "outputs": [
    {
     "data": {
      "text/plain": [
       "headlines    0\n",
       "text         0\n",
       "dtype: int64"
      ]
     },
     "execution_count": 15,
     "metadata": {},
     "output_type": "execute_result"
    }
   ],
   "source": [
    "data.isnull().sum()"
   ]
  },
  {
   "cell_type": "code",
   "execution_count": 16,
   "metadata": {
    "id": "2GTh9HEc8naz"
   },
   "outputs": [
    {
     "name": "stdout",
     "output_type": "stream",
     "text": [
      "전체 샘플수 : 98262\n"
     ]
    }
   ],
   "source": [
    "data.dropna(axis=0, inplace=True)\n",
    "print('전체 샘플수 :', (len(data)))"
   ]
  },
  {
   "cell_type": "markdown",
   "metadata": {
    "id": "1yLpjZExCEts"
   },
   "source": [
    "### Train, Test 데이터 나누기 - 샘플의 최대 길이 정하기"
   ]
  },
  {
   "cell_type": "code",
   "execution_count": 17,
   "metadata": {
    "id": "edh5QZcz8oMZ"
   },
   "outputs": [
    {
     "name": "stdout",
     "output_type": "stream",
     "text": [
      "텍스트의 최소 길이 : 1\n",
      "텍스트의 최대 길이 : 71\n",
      "텍스트의 평균 길이 : 57.92975921515947\n",
      "헤드라인의 최소 길이 : 1\n",
      "헤드라인의 최대 길이 : 17\n",
      "헤드라인의 평균 길이 : 9.48376788585618\n"
     ]
    },
    {
     "data": {
      "image/png": "[encoded data removed]",
      "text/plain": [
       "<Figure size 432x288 with 2 Axes>"
      ]
     },
     "metadata": {
      "needs_background": "light"
     },
     "output_type": "display_data"
    },
    {
     "data": {
      "image/png": "[encoded data removed]",
      "text/plain": [
       "<Figure size 432x288 with 1 Axes>"
      ]
     },
     "metadata": {
      "needs_background": "light"
     },
     "output_type": "display_data"
    },
    {
     "data": {
      "image/png": "[encoded data removed]",
      "text/plain": [
       "<Figure size 432x288 with 1 Axes>"
      ]
     },
     "metadata": {
      "needs_background": "light"
     },
     "output_type": "display_data"
    }
   ],
   "source": [
    "# 길이 분포 출력\n",
    "import matplotlib.pyplot as plt\n",
    "\n",
    "text_len = [len(s.split()) for s in data['text']]\n",
    "headlines_len = [len(s.split()) for s in data['headlines']]\n",
    "\n",
    "print('텍스트의 최소 길이 : {}'.format(np.min(text_len)))\n",
    "print('텍스트의 최대 길이 : {}'.format(np.max(text_len)))\n",
    "print('텍스트의 평균 길이 : {}'.format(np.mean(text_len)))\n",
    "print('헤드라인의 최소 길이 : {}'.format(np.min(headlines_len)))\n",
    "print('헤드라인의 최대 길이 : {}'.format(np.max(headlines_len)))\n",
    "print('헤드라인의 평균 길이 : {}'.format(np.mean(headlines_len)))\n",
    "\n",
    "plt.subplot(1,2,1)\n",
    "plt.boxplot(text_len)\n",
    "plt.title('Text')\n",
    "plt.subplot(1,2,2)\n",
    "plt.boxplot(headlines_len)\n",
    "plt.title('Headlines')\n",
    "plt.tight_layout()\n",
    "plt.show()\n",
    "\n",
    "plt.title('Text')\n",
    "plt.hist(text_len, bins = 40)\n",
    "plt.xlabel('length of samples')\n",
    "plt.ylabel('number of samples')\n",
    "plt.show()\n",
    "\n",
    "plt.title('Headlines')\n",
    "plt.hist(headlines_len, bins = 40)\n",
    "plt.xlabel('length of samples')\n",
    "plt.ylabel('number of samples')\n",
    "plt.show()"
   ]
  },
  {
   "cell_type": "code",
   "execution_count": 18,
   "metadata": {
    "id": "bu6302zM8o6h"
   },
   "outputs": [],
   "source": [
    "text_max_len = 60\n",
    "headlines_max_len = 15"
   ]
  },
  {
   "cell_type": "code",
   "execution_count": 19,
   "metadata": {
    "id": "O_m9toif8qE2"
   },
   "outputs": [],
   "source": [
    "def below_threshold_len(max_len, nested_list):\n",
    "  cnt = 0\n",
    "  for s in nested_list:\n",
    "    if(len(s.split()) <= max_len):\n",
    "        cnt = cnt + 1\n",
    "  print('전체 샘플 중 길이가 %s 이하인 샘플의 비율: %s'%(max_len, (cnt / len(nested_list))))"
   ]
  },
  {
   "cell_type": "code",
   "execution_count": 20,
   "metadata": {
    "id": "cKYpmMRU8qxK"
   },
   "outputs": [
    {
     "name": "stdout",
     "output_type": "stream",
     "text": [
      "전체 샘플 중 길이가 60 이하인 샘플의 비율: 0.8045124259632411\n",
      "전체 샘플 중 길이가 15 이하인 샘플의 비율: 0.9998066393926441\n"
     ]
    }
   ],
   "source": [
    "below_threshold_len(text_max_len, data['text'])\n",
    "below_threshold_len(headlines_max_len,  data['headlines'])"
   ]
  },
  {
   "cell_type": "code",
   "execution_count": 21,
   "metadata": {
    "id": "7lcooHvw8rpU"
   },
   "outputs": [
    {
     "name": "stdout",
     "output_type": "stream",
     "text": [
      "전체 샘플수 : 79043\n"
     ]
    }
   ],
   "source": [
    "data = data[data['text'].apply(lambda x: len(x.split()) <= text_max_len)]\n",
    "data = data[data['headlines'].apply(lambda x: len(x.split()) <= headlines_max_len)]\n",
    "\n",
    "print('전체 샘플수 :', (len(data)))"
   ]
  },
  {
   "cell_type": "markdown",
   "metadata": {
    "id": "J6870HVDENcG"
   },
   "source": [
    "#### 시작 토큰과 종료 토큰 추가하기"
   ]
  },
  {
   "cell_type": "code",
   "execution_count": 22,
   "metadata": {
    "id": "ZZGJ6mvB8sml"
   },
   "outputs": [
    {
     "data": {
      "text/html": [
       "<div>\n",
       "<style scoped>\n",
       "    .dataframe tbody tr th:only-of-type {\n",
       "        vertical-align: middle;\n",
       "    }\n",
       "\n",
       "    .dataframe tbody tr th {\n",
       "        vertical-align: top;\n",
       "    }\n",
       "\n",
       "    .dataframe thead th {\n",
       "        text-align: right;\n",
       "    }\n",
       "</style>\n",
       "<table border=\"1\" class=\"dataframe\">\n",
       "  <thead>\n",
       "    <tr style=\"text-align: right;\">\n",
       "      <th></th>\n",
       "      <th>headlines</th>\n",
       "      <th>text</th>\n",
       "      <th>decoder_input</th>\n",
       "      <th>decoder_target</th>\n",
       "    </tr>\n",
       "  </thead>\n",
       "  <tbody>\n",
       "    <tr>\n",
       "      <th>0</th>\n",
       "      <td>upgrad learner switches to career in ml   al w...</td>\n",
       "      <td>saurav kant  an alumnus of upgrad and iiit b p...</td>\n",
       "      <td>sostoken upgrad learner switches to career in ...</td>\n",
       "      <td>upgrad learner switches to career in ml   al w...</td>\n",
       "    </tr>\n",
       "    <tr>\n",
       "      <th>1</th>\n",
       "      <td>delhi techie wins free food from swiggy for on...</td>\n",
       "      <td>kunal shah credit card bill payment platform  ...</td>\n",
       "      <td>sostoken delhi techie wins free food from swig...</td>\n",
       "      <td>delhi techie wins free food from swiggy for on...</td>\n",
       "    </tr>\n",
       "    <tr>\n",
       "      <th>2</th>\n",
       "      <td>new zealand end rohit sharma led india    matc...</td>\n",
       "      <td>new zealand defeated india by   wickets in the...</td>\n",
       "      <td>sostoken new zealand end rohit sharma led indi...</td>\n",
       "      <td>new zealand end rohit sharma led india    matc...</td>\n",
       "    </tr>\n",
       "    <tr>\n",
       "      <th>3</th>\n",
       "      <td>aegon life iterm insurance plan helps customer...</td>\n",
       "      <td>with aegon life iterm insurance plan  customer...</td>\n",
       "      <td>sostoken aegon life iterm insurance plan helps...</td>\n",
       "      <td>aegon life iterm insurance plan helps customer...</td>\n",
       "    </tr>\n",
       "    <tr>\n",
       "      <th>5</th>\n",
       "      <td>rahat fateh ali khan denies getting notice for...</td>\n",
       "      <td>pakistani singer rahat fateh ali khan has deni...</td>\n",
       "      <td>sostoken rahat fateh ali khan denies getting n...</td>\n",
       "      <td>rahat fateh ali khan denies getting notice for...</td>\n",
       "    </tr>\n",
       "  </tbody>\n",
       "</table>\n",
       "</div>"
      ],
      "text/plain": [
       "                                           headlines  \\\n",
       "0  upgrad learner switches to career in ml   al w...   \n",
       "1  delhi techie wins free food from swiggy for on...   \n",
       "2  new zealand end rohit sharma led india    matc...   \n",
       "3  aegon life iterm insurance plan helps customer...   \n",
       "5  rahat fateh ali khan denies getting notice for...   \n",
       "\n",
       "                                                text  \\\n",
       "0  saurav kant  an alumnus of upgrad and iiit b p...   \n",
       "1  kunal shah credit card bill payment platform  ...   \n",
       "2  new zealand defeated india by   wickets in the...   \n",
       "3  with aegon life iterm insurance plan  customer...   \n",
       "5  pakistani singer rahat fateh ali khan has deni...   \n",
       "\n",
       "                                       decoder_input  \\\n",
       "0  sostoken upgrad learner switches to career in ...   \n",
       "1  sostoken delhi techie wins free food from swig...   \n",
       "2  sostoken new zealand end rohit sharma led indi...   \n",
       "3  sostoken aegon life iterm insurance plan helps...   \n",
       "5  sostoken rahat fateh ali khan denies getting n...   \n",
       "\n",
       "                                      decoder_target  \n",
       "0  upgrad learner switches to career in ml   al w...  \n",
       "1  delhi techie wins free food from swiggy for on...  \n",
       "2  new zealand end rohit sharma led india    matc...  \n",
       "3  aegon life iterm insurance plan helps customer...  \n",
       "5  rahat fateh ali khan denies getting notice for...  "
      ]
     },
     "execution_count": 22,
     "metadata": {},
     "output_type": "execute_result"
    }
   ],
   "source": [
    "# 제목 데이터에는 시작 토큰과 종료 토큰을 추가한다.\n",
    "data['decoder_input'] = data['headlines'].apply(lambda x : 'sostoken '+ x)\n",
    "data['decoder_target'] = data['headlines'].apply(lambda x : x + ' eostoken')\n",
    "data.head()"
   ]
  },
  {
   "cell_type": "code",
   "execution_count": 23,
   "metadata": {
    "id": "BEkURKLt8tiu"
   },
   "outputs": [],
   "source": [
    "encoder_input = np.array(data['text']) # 인코더의 입력\n",
    "decoder_input = np.array(data['decoder_input']) # 디코더의 입력\n",
    "decoder_target = np.array(data['decoder_target']) # 디코더의 레이블"
   ]
  },
  {
   "cell_type": "code",
   "execution_count": 24,
   "metadata": {
    "id": "7kLsEIdU8uL1"
   },
   "outputs": [
    {
     "name": "stdout",
     "output_type": "stream",
     "text": [
      "[55819 12748  7389 ... 68902 78911  5568]\n"
     ]
    }
   ],
   "source": [
    "indices = np.arange(encoder_input.shape[0])\n",
    "np.random.shuffle(indices)\n",
    "print(indices)"
   ]
  },
  {
   "cell_type": "code",
   "execution_count": 25,
   "metadata": {
    "id": "4ZB-0-0H8vGG"
   },
   "outputs": [],
   "source": [
    "encoder_input = encoder_input[indices]\n",
    "decoder_input = decoder_input[indices]\n",
    "decoder_target = decoder_target[indices]"
   ]
  },
  {
   "cell_type": "code",
   "execution_count": 26,
   "metadata": {
    "id": "2Tl3dejq8wB-"
   },
   "outputs": [
    {
     "name": "stdout",
     "output_type": "stream",
     "text": [
      "테스트 데이터의 수 : 15808\n"
     ]
    }
   ],
   "source": [
    "n_of_val = int(len(encoder_input)*0.2)\n",
    "print('테스트 데이터의 수 :', n_of_val)"
   ]
  },
  {
   "cell_type": "code",
   "execution_count": 27,
   "metadata": {
    "id": "A9mQLIlH8wu2"
   },
   "outputs": [
    {
     "name": "stdout",
     "output_type": "stream",
     "text": [
      "훈련 데이터의 개수 : 63235\n",
      "훈련 레이블의 개수 : 63235\n",
      "테스트 데이터의 개수 : 15808\n",
      "테스트 레이블의 개수 : 15808\n"
     ]
    }
   ],
   "source": [
    "encoder_input_train = encoder_input[:-n_of_val]\n",
    "decoder_input_train = decoder_input[:-n_of_val]\n",
    "decoder_target_train = decoder_target[:-n_of_val]\n",
    "\n",
    "encoder_input_test = encoder_input[-n_of_val:]\n",
    "decoder_input_test = decoder_input[-n_of_val:]\n",
    "decoder_target_test = decoder_target[-n_of_val:]\n",
    "\n",
    "print('훈련 데이터의 개수 :', len(encoder_input_train))\n",
    "print('훈련 레이블의 개수 :', len(decoder_input_train))\n",
    "print('테스트 데이터의 개수 :', len(encoder_input_test))\n",
    "print('테스트 레이블의 개수 :', len(decoder_input_test))"
   ]
  },
  {
   "cell_type": "markdown",
   "metadata": {
    "id": "a0DQHN69EUgO"
   },
   "source": [
    "### 단어 집합(vocabulary) 만들기 및 정수 인코딩"
   ]
  },
  {
   "cell_type": "code",
   "execution_count": 28,
   "metadata": {
    "id": "2L7Z_83X8xr5"
   },
   "outputs": [],
   "source": [
    "src_tokenizer = Tokenizer() # 토크나이저 정의\n",
    "src_tokenizer.fit_on_texts(encoder_input_train) # 입력된 데이터로부터 단어 집합 생성"
   ]
  },
  {
   "cell_type": "code",
   "execution_count": 29,
   "metadata": {
    "id": "Rw4DN_ZREZNU"
   },
   "outputs": [
    {
     "name": "stdout",
     "output_type": "stream",
     "text": [
      "단어 집합(vocabulary)의 크기 : 63860\n",
      "등장 빈도가 6번 이하인 희귀 단어의 수: 43789\n",
      "단어 집합에서 희귀 단어를 제외시킬 경우의 단어 집합의 크기 20071\n",
      "단어 집합에서 희귀 단어의 비율: 68.57031005324147\n",
      "전체 등장 빈도에서 희귀 단어 등장 빈도 비율: 2.476626215660193\n"
     ]
    }
   ],
   "source": [
    "threshold = 7\n",
    "total_cnt = len(src_tokenizer.word_index) # 단어의 수\n",
    "rare_cnt = 0 # 등장 빈도수가 threshold보다 작은 단어의 개수를 카운트\n",
    "total_freq = 0 # 훈련 데이터의 전체 단어 빈도수 총 합\n",
    "rare_freq = 0 # 등장 빈도수가 threshold보다 작은 단어의 등장 빈도수의 총 합\n",
    "\n",
    "# 단어와 빈도수의 쌍(pair)을 key와 value로 받는다.\n",
    "for key, value in src_tokenizer.word_counts.items():\n",
    "    total_freq = total_freq + value\n",
    "\n",
    "    # 단어의 등장 빈도수가 threshold보다 작으면\n",
    "    if(value < threshold):\n",
    "        rare_cnt = rare_cnt + 1\n",
    "        rare_freq = rare_freq + value\n",
    "\n",
    "print('단어 집합(vocabulary)의 크기 :', total_cnt)\n",
    "print('등장 빈도가 %s번 이하인 희귀 단어의 수: %s'%(threshold - 1, rare_cnt))\n",
    "print('단어 집합에서 희귀 단어를 제외시킬 경우의 단어 집합의 크기 %s'%(total_cnt - rare_cnt))\n",
    "print(\"단어 집합에서 희귀 단어의 비율:\", (rare_cnt / total_cnt)*100)\n",
    "print(\"전체 등장 빈도에서 희귀 단어 등장 빈도 비율:\", (rare_freq / total_freq)*100)"
   ]
  },
  {
   "cell_type": "code",
   "execution_count": 30,
   "metadata": {
    "id": "rmWgI6IIEbut"
   },
   "outputs": [],
   "source": [
    "src_vocab = 8000\n",
    "src_tokenizer = Tokenizer(num_words=src_vocab) # 단어 집합의 크기를 8,000으로 제한\n",
    "src_tokenizer.fit_on_texts(encoder_input_train) # 단어 집합 재생성"
   ]
  },
  {
   "cell_type": "code",
   "execution_count": 31,
   "metadata": {
    "id": "yTW-K2YdEeT_"
   },
   "outputs": [
    {
     "name": "stdout",
     "output_type": "stream",
     "text": [
      "[[1, 4050, 2438, 3, 5884, 205, 5360, 1434, 40, 76, 12, 4676, 6, 6918, 14, 2405, 7796, 47, 1, 236, 150, 319, 470, 1, 871, 6529, 36, 1, 500, 5884, 48, 4051, 2998, 1354, 74, 177, 1034, 5, 1, 6, 15, 10, 5, 1, 4581], [274, 92, 3371, 4025, 8, 1923, 2, 333, 35, 259, 202, 1261, 87, 3, 681, 109, 1, 80, 415, 846, 3, 64, 1, 21, 25, 7, 370, 5, 898, 1462, 6, 6343, 242, 70, 2, 87, 29, 13, 429, 5474, 5, 3371, 21, 194, 70, 1, 271, 3, 395], [1, 245, 62, 7, 118, 11, 1, 410, 6628, 442, 209, 7, 545, 303, 4114, 2308, 12, 3723, 219, 72, 456, 77, 25, 1763, 1, 2449, 62, 39, 11, 2308, 172, 25, 343, 1, 209, 7, 573, 46, 68, 1213, 2308, 887, 14, 116, 2308, 27, 1250, 1, 1634, 2386, 1, 44, 373, 392, 2, 1342, 68, 7, 774]]\n"
     ]
    }
   ],
   "source": [
    "# 텍스트 시퀀스를 정수 시퀀스로 변환\n",
    "encoder_input_train = src_tokenizer.texts_to_sequences(encoder_input_train)\n",
    "encoder_input_test = src_tokenizer.texts_to_sequences(encoder_input_test)\n",
    "\n",
    "# 잘 진행되었는지 샘플 출력\n",
    "print(encoder_input_train[:3])"
   ]
  },
  {
   "cell_type": "code",
   "execution_count": 32,
   "metadata": {
    "id": "O8vo_O7OEgsP"
   },
   "outputs": [],
   "source": [
    "tar_tokenizer = Tokenizer()\n",
    "tar_tokenizer.fit_on_texts(decoder_input_train)"
   ]
  },
  {
   "cell_type": "code",
   "execution_count": 33,
   "metadata": {
    "id": "Lk9k3lOuEhrG"
   },
   "outputs": [
    {
     "name": "stdout",
     "output_type": "stream",
     "text": [
      "단어 집합(vocabulary)의 크기 : 27821\n",
      "등장 빈도가 5번 이하인 희귀 단어의 수: 18579\n",
      "단어 집합에서 희귀 단어를 제외시킬 경우의 단어 집합의 크기 9242\n",
      "단어 집합에서 희귀 단어의 비율: 66.78048955824737\n",
      "전체 등장 빈도에서 희귀 단어 등장 빈도 비율: 5.375351080718036\n"
     ]
    }
   ],
   "source": [
    "threshold = 6\n",
    "total_cnt = len(tar_tokenizer.word_index) # 단어의 수\n",
    "rare_cnt = 0 # 등장 빈도수가 threshold보다 작은 단어의 개수를 카운트\n",
    "total_freq = 0 # 훈련 데이터의 전체 단어 빈도수 총 합\n",
    "rare_freq = 0 # 등장 빈도수가 threshold보다 작은 단어의 등장 빈도수의 총 합\n",
    "\n",
    "# 단어와 빈도수의 쌍(pair)을 key와 value로 받는다.\n",
    "for key, value in tar_tokenizer.word_counts.items():\n",
    "    total_freq = total_freq + value\n",
    "\n",
    "    # 단어의 등장 빈도수가 threshold보다 작으면\n",
    "    if(value < threshold):\n",
    "        rare_cnt = rare_cnt + 1\n",
    "        rare_freq = rare_freq + value\n",
    "\n",
    "print('단어 집합(vocabulary)의 크기 :', total_cnt)\n",
    "print('등장 빈도가 %s번 이하인 희귀 단어의 수: %s'%(threshold - 1, rare_cnt))\n",
    "print('단어 집합에서 희귀 단어를 제외시킬 경우의 단어 집합의 크기 %s'%(total_cnt - rare_cnt))\n",
    "print(\"단어 집합에서 희귀 단어의 비율:\", (rare_cnt / total_cnt)*100)\n",
    "print(\"전체 등장 빈도에서 희귀 단어 등장 빈도 비율:\", (rare_freq / total_freq)*100)"
   ]
  },
  {
   "cell_type": "code",
   "execution_count": 34,
   "metadata": {
    "id": "TAJLLCE7EjIR"
   },
   "outputs": [
    {
     "name": "stdout",
     "output_type": "stream",
     "text": [
      "input\n",
      "input  [[1, 1020, 1010, 958], [1, 35, 76, 6, 81, 3, 74, 39, 92, 896, 536], [1, 48, 1113, 3, 243, 90, 1724, 64, 318], [1, 35, 1999, 5], [1, 87, 42, 165, 93, 4, 28, 371]]\n",
      "target\n",
      "decoder  [[1020, 1010, 958, 2], [35, 76, 6, 81, 3, 74, 39, 92, 896, 536, 2], [48, 1113, 3, 243, 90, 1724, 64, 318, 2], [35, 1999, 5, 2], [87, 42, 165, 93, 4, 28, 371, 2]]\n"
     ]
    }
   ],
   "source": [
    "tar_vocab = 2000\n",
    "tar_tokenizer = Tokenizer(num_words=tar_vocab)\n",
    "tar_tokenizer.fit_on_texts(decoder_input_train)\n",
    "tar_tokenizer.fit_on_texts(decoder_target_train)\n",
    "\n",
    "# 텍스트 시퀀스를 정수 시퀀스로 변환\n",
    "decoder_input_train = tar_tokenizer.texts_to_sequences(decoder_input_train)\n",
    "decoder_target_train = tar_tokenizer.texts_to_sequences(decoder_target_train)\n",
    "decoder_input_test = tar_tokenizer.texts_to_sequences(decoder_input_test)\n",
    "decoder_target_test = tar_tokenizer.texts_to_sequences(decoder_target_test)\n",
    "\n",
    "# 잘 변환되었는지 확인\n",
    "print('input')\n",
    "print('input ',decoder_input_train[:5])\n",
    "print('target')\n",
    "print('decoder ',decoder_target_train[:5])"
   ]
  },
  {
   "cell_type": "code",
   "execution_count": 35,
   "metadata": {
    "id": "EoTwtTc-EklM"
   },
   "outputs": [
    {
     "name": "stdout",
     "output_type": "stream",
     "text": [
      "삭제할 훈련 데이터의 개수 : 10\n",
      "삭제할 테스트 데이터의 개수 : 3\n",
      "훈련 데이터의 개수 : 63225\n",
      "훈련 레이블의 개수 : 63225\n",
      "테스트 데이터의 개수 : 15805\n",
      "테스트 레이블의 개수 : 15805\n"
     ]
    }
   ],
   "source": [
    "drop_train = [index for index, sentence in enumerate(decoder_input_train) if len(sentence) == 1]\n",
    "drop_test = [index for index, sentence in enumerate(decoder_input_test) if len(sentence) == 1]\n",
    "\n",
    "print('삭제할 훈련 데이터의 개수 :', len(drop_train))\n",
    "print('삭제할 테스트 데이터의 개수 :', len(drop_test))\n",
    "\n",
    "encoder_input_train = [sentence for index, sentence in enumerate(encoder_input_train) if index not in drop_train]\n",
    "decoder_input_train = [sentence for index, sentence in enumerate(decoder_input_train) if index not in drop_train]\n",
    "decoder_target_train = [sentence for index, sentence in enumerate(decoder_target_train) if index not in drop_train]\n",
    "\n",
    "encoder_input_test = [sentence for index, sentence in enumerate(encoder_input_test) if index not in drop_test]\n",
    "decoder_input_test = [sentence for index, sentence in enumerate(decoder_input_test) if index not in drop_test]\n",
    "decoder_target_test = [sentence for index, sentence in enumerate(decoder_target_test) if index not in drop_test]\n",
    "\n",
    "print('훈련 데이터의 개수 :', len(encoder_input_train))\n",
    "print('훈련 레이블의 개수 :', len(decoder_input_train))\n",
    "print('테스트 데이터의 개수 :', len(encoder_input_test))\n",
    "print('테스트 레이블의 개수 :', len(decoder_input_test))"
   ]
  },
  {
   "cell_type": "markdown",
   "metadata": {
    "id": "V1ubEqa_Eqaj"
   },
   "source": [
    "### 패딩하기"
   ]
  },
  {
   "cell_type": "code",
   "execution_count": 36,
   "metadata": {
    "id": "oWgbXoQUEpSH"
   },
   "outputs": [],
   "source": [
    "encoder_input_train = pad_sequences(encoder_input_train, maxlen=text_max_len, padding='post')\n",
    "encoder_input_test = pad_sequences(encoder_input_test, maxlen=text_max_len, padding='post')\n",
    "decoder_input_train = pad_sequences(decoder_input_train, maxlen=headlines_max_len, padding='post')\n",
    "decoder_target_train = pad_sequences(decoder_target_train, maxlen=headlines_max_len, padding='post')\n",
    "decoder_input_test = pad_sequences(decoder_input_test, maxlen=headlines_max_len, padding='post')\n",
    "decoder_target_test = pad_sequences(decoder_target_test, maxlen=headlines_max_len, padding='post')"
   ]
  },
  {
   "cell_type": "markdown",
   "metadata": {
    "id": "ydkuluGeGKBv"
   },
   "source": [
    "# Step 3. 어텐션 메커니즘 사용하기"
   ]
  },
  {
   "cell_type": "code",
   "execution_count": 37,
   "metadata": {
    "id": "KA0iOgdMEsVQ"
   },
   "outputs": [],
   "source": [
    "from tensorflow.keras.layers import Input, LSTM, Embedding, Dense, Concatenate, AdditiveAttention\n",
    "from tensorflow.keras.models import Model\n",
    "from tensorflow.keras.callbacks import EarlyStopping, ModelCheckpoint\n",
    "\n",
    "# 인코더 설계 시작\n",
    "embedding_dim = 128\n",
    "hidden_size = 256\n",
    "\n",
    "# 인코더\n",
    "encoder_inputs = Input(shape=(text_max_len,))\n",
    "\n",
    "# 인코더의 임베딩 층\n",
    "enc_emb = Embedding(src_vocab, embedding_dim)(encoder_inputs)\n",
    "\n",
    "# 인코더의 LSTM 1\n",
    "encoder_lstm1 = LSTM(hidden_size, return_sequences=True, return_state=True, dropout=0.4)\n",
    "encoder_output1, state_h1, state_c1 = encoder_lstm1(enc_emb)\n",
    "\n",
    "# 인코더의 LSTM 2\n",
    "encoder_lstm2 = LSTM(hidden_size, return_sequences=True, return_state=True, dropout=0.4)\n",
    "encoder_output2, state_h2, state_c2 = encoder_lstm2(encoder_output1)\n",
    "\n",
    "# 인코더의 LSTM 3\n",
    "encoder_lstm3 = LSTM(hidden_size, return_sequences=True, return_state=True, dropout=0.4)\n",
    "encoder_outputs, state_h, state_c = encoder_lstm3(encoder_output2)"
   ]
  },
  {
   "cell_type": "code",
   "execution_count": 38,
   "metadata": {
    "id": "i_zgKYD0GX21"
   },
   "outputs": [],
   "source": [
    "# 디코더 설계\n",
    "decoder_inputs = Input(shape=(None,))\n",
    "\n",
    "# 디코더의 임베딩 층\n",
    "dec_emb_layer = Embedding(tar_vocab, embedding_dim)\n",
    "dec_emb = dec_emb_layer(decoder_inputs)\n",
    "\n",
    "# 디코더의 LSTM\n",
    "# decoder_lstm = LSTM(hidden_size, return_sequences=True, return_state=True, dropout=0.4, recurrent_dropout=0.2)\n",
    "decoder_lstm = LSTM(hidden_size, return_sequences=True, return_state=True, dropout=0.4)\n",
    "decoder_outputs, _, _ = decoder_lstm(dec_emb, initial_state=[state_h, state_c])"
   ]
  },
  {
   "cell_type": "code",
   "execution_count": 39,
   "metadata": {
    "id": "95oe3OPHGZS7"
   },
   "outputs": [
    {
     "name": "stdout",
     "output_type": "stream",
     "text": [
      "Model: \"model\"\n",
      "__________________________________________________________________________________________________\n",
      "Layer (type)                    Output Shape         Param #     Connected to                     \n",
      "==================================================================================================\n",
      "input_1 (InputLayer)            [(None, 60)]         0                                            \n",
      "__________________________________________________________________________________________________\n",
      "embedding (Embedding)           (None, 60, 128)      1024000     input_1[0][0]                    \n",
      "__________________________________________________________________________________________________\n",
      "lstm (LSTM)                     [(None, 60, 256), (N 394240      embedding[0][0]                  \n",
      "__________________________________________________________________________________________________\n",
      "input_2 (InputLayer)            [(None, None)]       0                                            \n",
      "__________________________________________________________________________________________________\n",
      "lstm_1 (LSTM)                   [(None, 60, 256), (N 525312      lstm[0][0]                       \n",
      "__________________________________________________________________________________________________\n",
      "embedding_1 (Embedding)         (None, None, 128)    256000      input_2[0][0]                    \n",
      "__________________________________________________________________________________________________\n",
      "lstm_2 (LSTM)                   [(None, 60, 256), (N 525312      lstm_1[0][0]                     \n",
      "__________________________________________________________________________________________________\n",
      "lstm_3 (LSTM)                   [(None, None, 256),  394240      embedding_1[0][0]                \n",
      "                                                                 lstm_2[0][1]                     \n",
      "                                                                 lstm_2[0][2]                     \n",
      "__________________________________________________________________________________________________\n",
      "dense (Dense)                   (None, None, 2000)   514000      lstm_3[0][0]                     \n",
      "==================================================================================================\n",
      "Total params: 3,633,104\n",
      "Trainable params: 3,633,104\n",
      "Non-trainable params: 0\n",
      "__________________________________________________________________________________________________\n"
     ]
    }
   ],
   "source": [
    "# 디코더의 출력층\n",
    "decoder_softmax_layer = Dense(tar_vocab, activation='softmax')\n",
    "decoder_softmax_outputs = decoder_softmax_layer(decoder_outputs)\n",
    "\n",
    "# 모델 정의\n",
    "model = Model([encoder_inputs, decoder_inputs], decoder_softmax_outputs)\n",
    "model.summary()"
   ]
  },
  {
   "cell_type": "code",
   "execution_count": 40,
   "metadata": {
    "id": "bicVpO_pGaIu"
   },
   "outputs": [
    {
     "name": "stdout",
     "output_type": "stream",
     "text": [
      "Model: \"model_1\"\n",
      "__________________________________________________________________________________________________\n",
      "Layer (type)                    Output Shape         Param #     Connected to                     \n",
      "==================================================================================================\n",
      "input_1 (InputLayer)            [(None, 60)]         0                                            \n",
      "__________________________________________________________________________________________________\n",
      "embedding (Embedding)           (None, 60, 128)      1024000     input_1[0][0]                    \n",
      "__________________________________________________________________________________________________\n",
      "lstm (LSTM)                     [(None, 60, 256), (N 394240      embedding[0][0]                  \n",
      "__________________________________________________________________________________________________\n",
      "input_2 (InputLayer)            [(None, None)]       0                                            \n",
      "__________________________________________________________________________________________________\n",
      "lstm_1 (LSTM)                   [(None, 60, 256), (N 525312      lstm[0][0]                       \n",
      "__________________________________________________________________________________________________\n",
      "embedding_1 (Embedding)         (None, None, 128)    256000      input_2[0][0]                    \n",
      "__________________________________________________________________________________________________\n",
      "lstm_2 (LSTM)                   [(None, 60, 256), (N 525312      lstm_1[0][0]                     \n",
      "__________________________________________________________________________________________________\n",
      "lstm_3 (LSTM)                   [(None, None, 256),  394240      embedding_1[0][0]                \n",
      "                                                                 lstm_2[0][1]                     \n",
      "                                                                 lstm_2[0][2]                     \n",
      "__________________________________________________________________________________________________\n",
      "attention_layer (AdditiveAttent (None, None, 256)    256         lstm_3[0][0]                     \n",
      "                                                                 lstm_2[0][0]                     \n",
      "__________________________________________________________________________________________________\n",
      "concat_layer (Concatenate)      (None, None, 512)    0           lstm_3[0][0]                     \n",
      "                                                                 attention_layer[0][0]            \n",
      "__________________________________________________________________________________________________\n",
      "dense_1 (Dense)                 (None, None, 2000)   1026000     concat_layer[0][0]               \n",
      "==================================================================================================\n",
      "Total params: 4,145,360\n",
      "Trainable params: 4,145,360\n",
      "Non-trainable params: 0\n",
      "__________________________________________________________________________________________________\n"
     ]
    }
   ],
   "source": [
    "from tensorflow.keras.layers import AdditiveAttention\n",
    "\n",
    "# 어텐션 층(어텐션 함수)\n",
    "attn_layer = AdditiveAttention(name='attention_layer')\n",
    "\n",
    "# 인코더와 디코더의 모든 time step의 hidden state를 어텐션 층에 전달하고 결과를 리턴\n",
    "attn_out = attn_layer([decoder_outputs, encoder_outputs])\n",
    "\n",
    "\n",
    "# 어텐션의 결과와 디코더의 hidden state들을 연결\n",
    "decoder_concat_input = Concatenate(axis=-1, name='concat_layer')([decoder_outputs, attn_out])\n",
    "\n",
    "# 디코더의 출력층\n",
    "decoder_softmax_layer = Dense(tar_vocab, activation='softmax')\n",
    "decoder_softmax_outputs = decoder_softmax_layer(decoder_concat_input)\n",
    "\n",
    "# 모델 정의\n",
    "model = Model([encoder_inputs, decoder_inputs], decoder_softmax_outputs)\n",
    "model.summary()"
   ]
  },
  {
   "cell_type": "markdown",
   "metadata": {
    "id": "cvsgHN58HnKD"
   },
   "source": [
    "### 모델 훈련하기"
   ]
  },
  {
   "cell_type": "code",
   "execution_count": 41,
   "metadata": {
    "id": "O8jKBKPJHokT"
   },
   "outputs": [
    {
     "name": "stdout",
     "output_type": "stream",
     "text": [
      "Epoch 1/50\n",
      "247/247 [==============================] - 32s 99ms/step - loss: 3.2289 - val_loss: 2.9923\n",
      "Epoch 2/50\n",
      "247/247 [==============================] - 24s 96ms/step - loss: 2.8811 - val_loss: 2.7446\n",
      "Epoch 3/50\n",
      "247/247 [==============================] - 24s 98ms/step - loss: 2.6468 - val_loss: 2.5804\n",
      "Epoch 4/50\n",
      "247/247 [==============================] - 24s 97ms/step - loss: 2.4739 - val_loss: 2.4279\n",
      "Epoch 5/50\n",
      "247/247 [==============================] - 24s 97ms/step - loss: 2.3451 - val_loss: 2.3309\n",
      "Epoch 6/50\n",
      "247/247 [==============================] - 24s 99ms/step - loss: 2.2430 - val_loss: 2.2551\n",
      "Epoch 7/50\n",
      "247/247 [==============================] - 25s 100ms/step - loss: 2.1570 - val_loss: 2.1995\n",
      "Epoch 8/50\n",
      "247/247 [==============================] - 25s 101ms/step - loss: 2.0838 - val_loss: 2.1513\n",
      "Epoch 9/50\n",
      "247/247 [==============================] - 25s 100ms/step - loss: 2.0199 - val_loss: 2.1156\n",
      "Epoch 10/50\n",
      "247/247 [==============================] - 25s 100ms/step - loss: 1.9631 - val_loss: 2.0830\n",
      "Epoch 11/50\n",
      "247/247 [==============================] - 25s 100ms/step - loss: 1.9117 - val_loss: 2.0587\n",
      "Epoch 12/50\n",
      "247/247 [==============================] - 25s 100ms/step - loss: 1.8656 - val_loss: 2.0347\n",
      "Epoch 13/50\n",
      "247/247 [==============================] - 25s 100ms/step - loss: 1.8229 - val_loss: 2.0213\n",
      "Epoch 14/50\n",
      "247/247 [==============================] - 25s 100ms/step - loss: 1.7831 - val_loss: 2.0005\n",
      "Epoch 15/50\n",
      "247/247 [==============================] - 25s 100ms/step - loss: 1.7452 - val_loss: 1.9896\n",
      "Epoch 16/50\n",
      "247/247 [==============================] - 25s 100ms/step - loss: 1.7095 - val_loss: 1.9803\n",
      "Epoch 17/50\n",
      "247/247 [==============================] - 25s 100ms/step - loss: 1.6777 - val_loss: 1.9699\n",
      "Epoch 18/50\n",
      "247/247 [==============================] - 25s 100ms/step - loss: 1.6475 - val_loss: 1.9670\n",
      "Epoch 19/50\n",
      "247/247 [==============================] - 25s 100ms/step - loss: 1.6182 - val_loss: 1.9590\n",
      "Epoch 20/50\n",
      "247/247 [==============================] - 25s 100ms/step - loss: 1.5902 - val_loss: 1.9569\n",
      "Epoch 21/50\n",
      "247/247 [==============================] - 25s 100ms/step - loss: 1.5640 - val_loss: 1.9509\n",
      "Epoch 22/50\n",
      "247/247 [==============================] - 25s 100ms/step - loss: 1.5401 - val_loss: 1.9486\n",
      "Epoch 23/50\n",
      "247/247 [==============================] - 25s 100ms/step - loss: 1.5167 - val_loss: 1.9487\n",
      "Epoch 24/50\n",
      "247/247 [==============================] - 25s 100ms/step - loss: 1.4943 - val_loss: 1.9459\n",
      "Epoch 25/50\n",
      "247/247 [==============================] - 25s 100ms/step - loss: 1.4751 - val_loss: 1.9468\n",
      "Epoch 26/50\n",
      "247/247 [==============================] - 25s 100ms/step - loss: 1.4544 - val_loss: 1.9486\n",
      "Epoch 00026: early stopping\n"
     ]
    }
   ],
   "source": [
    "model.compile(optimizer='rmsprop', loss='sparse_categorical_crossentropy')\n",
    "es = EarlyStopping(monitor='val_loss', patience=2, verbose=1)\n",
    "history = model.fit(x=[encoder_input_train, decoder_input_train], y=decoder_target_train, \\\n",
    "          validation_data=([encoder_input_test, decoder_input_test], decoder_target_test), \\\n",
    "          batch_size=256, callbacks=[es], epochs=50)"
   ]
  },
  {
   "cell_type": "code",
   "execution_count": 42,
   "metadata": {
    "id": "RVmCmN7oHpwr"
   },
   "outputs": [
    {
     "data": {
      "image/png": "[encoded data removed]",
      "text/plain": [
       "<Figure size 432x288 with 1 Axes>"
      ]
     },
     "metadata": {
      "needs_background": "light"
     },
     "output_type": "display_data"
    }
   ],
   "source": [
    "plt.plot(history.history['loss'], label='train')\n",
    "plt.plot(history.history['val_loss'], label='test')\n",
    "plt.legend()\n",
    "plt.show()"
   ]
  },
  {
   "cell_type": "markdown",
   "metadata": {
    "id": "cRIG-BB_Iv1-"
   },
   "source": [
    "### 인퍼런스 모델 구현하기"
   ]
  },
  {
   "cell_type": "code",
   "execution_count": 43,
   "metadata": {
    "id": "07BzVTB1Hrnj"
   },
   "outputs": [],
   "source": [
    "src_index_to_word = src_tokenizer.index_word # 원문 단어 집합에서 정수 -> 단어를 얻음\n",
    "tar_word_to_index = tar_tokenizer.word_index # 요약 단어 집합에서 단어 -> 정수를 얻음\n",
    "tar_index_to_word = tar_tokenizer.index_word # 요약 단어 집합에서 정수 -> 단어를 얻음"
   ]
  },
  {
   "cell_type": "code",
   "execution_count": 44,
   "metadata": {
    "id": "7YCj0hkJIyrq"
   },
   "outputs": [],
   "source": [
    "# 인코더 설계\n",
    "encoder_model = Model(inputs=encoder_inputs, outputs=[encoder_outputs, state_h, state_c])\n",
    "\n",
    "# 이전 시점의 상태들을 저장하는 텐서\n",
    "decoder_state_input_h = Input(shape=(hidden_size,))\n",
    "decoder_state_input_c = Input(shape=(hidden_size,))\n",
    "\n",
    "dec_emb2 = dec_emb_layer(decoder_inputs)\n",
    "\n",
    "# 문장의 다음 단어를 예측하기 위해서 초기 상태(initial_state)를 이전 시점의 상태로 사용. 이는 뒤의 함수 decode_sequence()에 구현\n",
    "# 훈련 과정에서와 달리 LSTM의 리턴하는 은닉 상태와 셀 상태인 state_h와 state_c를 버리지 않음.\n",
    "decoder_outputs2, state_h2, state_c2 = decoder_lstm(dec_emb2, initial_state=[decoder_state_input_h, decoder_state_input_c])"
   ]
  },
  {
   "cell_type": "code",
   "execution_count": 45,
   "metadata": {
    "id": "jSP6WZjhIzxs"
   },
   "outputs": [],
   "source": [
    "# 어텐션 함수\n",
    "decoder_hidden_state_input = Input(shape=(text_max_len, hidden_size))\n",
    "attn_out_inf = attn_layer([decoder_outputs2, decoder_hidden_state_input])\n",
    "decoder_inf_concat = Concatenate(axis=-1, name='concat')([decoder_outputs2, attn_out_inf])\n",
    "\n",
    "# 디코더의 출력층\n",
    "decoder_outputs2 = decoder_softmax_layer(decoder_inf_concat) \n",
    "\n",
    "# 최종 디코더 모델\n",
    "decoder_model = Model(\n",
    "    [decoder_inputs] + [decoder_hidden_state_input,decoder_state_input_h, decoder_state_input_c],\n",
    "    [decoder_outputs2] + [state_h2, state_c2])"
   ]
  },
  {
   "cell_type": "code",
   "execution_count": 46,
   "metadata": {
    "id": "Ktf2x5wmI1ZC"
   },
   "outputs": [],
   "source": [
    "def decode_sequence(input_seq):\n",
    "    # 입력으로부터 인코더의 상태를 얻음\n",
    "    e_out, e_h, e_c = encoder_model.predict(input_seq)\n",
    "\n",
    "     # <SOS>에 해당하는 토큰 생성\n",
    "    target_seq = np.zeros((1,1))\n",
    "    target_seq[0, 0] = tar_word_to_index['sostoken']\n",
    "\n",
    "    stop_condition = False\n",
    "    decoded_sentence = ''\n",
    "    while not stop_condition: # stop_condition이 True가 될 때까지 루프 반복\n",
    "\n",
    "        output_tokens, h, c = decoder_model.predict([target_seq] + [e_out, e_h, e_c])\n",
    "        sampled_token_index = np.argmax(output_tokens[0, -1, :])\n",
    "        sampled_token = tar_index_to_word[sampled_token_index]\n",
    "\n",
    "        if (sampled_token!='eostoken'):\n",
    "            decoded_sentence += ' '+sampled_token\n",
    "\n",
    "        #  <eos>에 도달하거나 최대 길이를 넘으면 중단.\n",
    "        if (sampled_token == 'eostoken'  or len(decoded_sentence.split()) >= (headlines_max_len-1)):\n",
    "            stop_condition = True\n",
    "\n",
    "        # 길이가 1인 타겟 시퀀스를 업데이트\n",
    "        target_seq = np.zeros((1,1))\n",
    "        target_seq[0, 0] = sampled_token_index\n",
    "\n",
    "        # 상태를 업데이트 합니다.\n",
    "        e_h, e_c = h, c\n",
    "\n",
    "    return decoded_sentence"
   ]
  },
  {
   "cell_type": "markdown",
   "metadata": {
    "id": "YxxASOdkI2sO"
   },
   "source": [
    "# Step 4. 실제 결과와 요약문 비교하기"
   ]
  },
  {
   "cell_type": "code",
   "execution_count": 47,
   "metadata": {},
   "outputs": [],
   "source": [
    "# 원문의 정수 시퀀스를 텍스트 시퀀스로 변환\n",
    "def seq2text(input_seq):\n",
    "    temp=''\n",
    "    for i in input_seq:\n",
    "        if (i!=0):\n",
    "            temp = temp + src_index_to_word[i]+' '\n",
    "    return temp\n",
    "\n",
    "def seq2summary(input_seq):\n",
    "    sostoken_idx = tar_word_to_index['sostoken']  # 예시로 설정한 sostoken의 인덱스 값\n",
    "    eostoken_idx = tar_word_to_index['eostoken']  # 예시로 설정한 eostoken의 인덱스 값\n",
    "    \n",
    "    temp = ''\n",
    "    for i in input_seq:\n",
    "        if (i != 0) and (i != sostoken_idx) and (i != eostoken_idx):\n",
    "            temp = temp + tar_index_to_word[i] + ' '\n",
    "    return temp.strip()"
   ]
  },
  {
   "cell_type": "code",
   "execution_count": 48,
   "metadata": {},
   "outputs": [
    {
     "name": "stdout",
     "output_type": "stream",
     "text": [
      "원문 : vice president venkaiah naidu has said the billion pnb scam brought bad name to the system and is an eye opener for everyone he also emphasised the need for greater transparency and corporate governance earlier he said only two three instances of nirav modi choksi and vijay mallya but they are damaging the image of the country \n",
      "실제 요약 : pnb scam bad name an vice prez naidu\n",
      "예측 요약 :  you are to be to make a choksi vp\n",
      "\n",
      "\n",
      "원문 : russia ambassador to said any us missiles fired at syria would be shot down and their launch sites will be targeted us president donald trump had vowed to respond to an alleged chemical attack by syria government a russian ally within hours the us had fired missiles at a syrian after a similar attack last year \n",
      "실제 요약 : us fired at syria will be shot down russia\n",
      "예측 요약 :  russia russia syria syria syria\n",
      "\n",
      "\n",
      "원문 : the champagne gold train on its maiden journey from tokyo on may the car train passengers in with prices reaching up to per person operated by the east japan railway it features a five star a menu by a starred chef and and observatory cars \n",
      "실제 요약 : in pictures japan train\n",
      "예측 요약 :  train train to train in\n",
      "\n",
      "\n",
      "원문 : actress priyanka chopra wore a dress worth by spanish retailer to meet queen of jordan priyanka who is a unicef global goodwill ambassador was in jordan to interact with children refugees from syria queen is a true inspiration her efforts to help those in need comes straight from the heart wrote priyanka on instagram \n",
      "실제 요약 : priyanka a dress while meeting queen of\n",
      "예측 요약 :  priyanka chopra wears wedding at\n",
      "\n",
      "\n",
      "원문 : a bengaluru court on saturday sentenced a former hr manager with infosys to life imprisonment for murdering his wife in the year old had reportedly and slit his wife throat because she often abused his parents the court sentenced him to life imprisonment for the murder and five more years of imprisonment for providing false information to the police \n",
      "실제 요약 : b luru ex infosys manager gets life term for wife\n",
      "예측 요약 :  ex jail term for killing wife\n",
      "\n",
      "\n",
      "원문 : the national payments corporation of india on thursday launched an version of the payments interface customers can now link account to in addition to current and savings account and the transaction limit has been doubled to lakh also allows customers to check before making a payment to the merchant \n",
      "실제 요약 : what are the features of launched on\n",
      "예측 요약 :  launches india based mobile\n",
      "\n",
      "\n",
      "원문 : over residents from and garden in bengaluru staged a protest against the bruhat bengaluru mahanagara palike alleged move to cut over trees along the old airport road the trees were reportedly to work on a kilometre signal free corridor aimed at movement of traffic \n",
      "실제 요약 : bengaluru protest of trees by civic body\n",
      "예측 요약 :  bengaluru workers protest against\n",
      "\n",
      "\n",
      "원문 : reserve bank of india reserves panel chairman has said the central bank is to the government the autonomous institution has to deliver the services that the government has approved as part of policy framework he added differences in views have to be resolved in the country interest the former rbi governor further said \n",
      "실제 요약 : rbi to government panel chairman\n",
      "예측 요약 :  rbi to take to\n",
      "\n",
      "\n",
      "원문 : researchers have developed a solar cell that uses an artificial system to generate hydrogen fuel and electricity at the same time the silicon in the cell the current produced by the sunlight energy and allowing it to split the water in hydrogen oxygen and electricity according to the researchers the device has a combined efficiency of \n",
      "실제 요약 : solar at same time made\n",
      "예측 요약 :  mit develops to\n",
      "\n",
      "\n",
      "원문 : a us man has sued an park alleging that he contracted an eye eating on one of its water rides the lawsuit claims the water at the ride was dirty and the complainant had to undergo an extremely surgery but part of the could still not be removed he is seeking in damages \n",
      "실제 요약 : man sues park for l over eating\n",
      "예측 요약 :  us man sues for water\n",
      "\n",
      "\n",
      "원문 : taapsee pannu while responding to a troll on twitter who slammed her for her outfit tweeted get well soon the user commented that it was because of pictures like the one of her in a outfit that men got to women and harassed them arjun kapoor taapsee for her response to another user who criticised her picture \n",
      "실제 요약 : get well soon taapsee to who slammed her\n",
      "예측 요약 :  taapsee trolled for calling her\n",
      "\n",
      "\n",
      "원문 : american pornstar daniels lawyer has said it is time for us president donald trump to up on his client offer daniels recently offered to return an amount of allegedly paid to her by trump lawyer in return for her silence over her alleged affair with trump the deadline to accept the offer expired on tuesday \n",
      "실제 요약 : lawyer warns trump after deadline\n",
      "예측 요약 :  us lawyer trump to pay for\n",
      "\n",
      "\n",
      "원문 : while speaking about his co star rishi kapoor actor said he is the most honest person i have seen he is very open and will say if he likes something of and share as well he added further said that he had a very different perception of rishi before meeting him \n",
      "실제 요약 : rishi is the most person i have seen actor\n",
      "예측 요약 :  i am a in the world on rishi kapoor\n",
      "\n",
      "\n",
      "원문 : fifa will raise the prize money for the women world cup from million to million starting with next year edition in france fifa president announced on friday further said that million would be made available for pre tournament while the players club will also be paid for their players taking part in the tournament \n",
      "실제 요약 : fifa women wc will have prize fund to mn\n",
      "예측 요약 :  fifa world cup to be paid crore prize\n",
      "\n",
      "\n",
      "원문 : sunny deol has been cleared by the censor board with an a certificate after years following a court order directing the film to be released without any cuts a stay order against the film release was issued in over its trailer which showed the actors the film release date is yet to be announced \n",
      "실제 요약 : board clears sunny after yrs\n",
      "예측 요약 :  sunny to hold bollywood after years\n",
      "\n",
      "\n",
      "원문 : japanese automaker nissan has unveiled and floor that park themselves using autonomous driving technology at the park hotel in japan the technology makes the objects automatically return to their designated spots at the push of a button the technology is being demonstrated to guests and reduce staff nissan said \n",
      "실제 요약 : that park unveiled\n",
      "예측 요약 :  unveils car that can crash\n",
      "\n",
      "\n",
      "원문 : the government has asked coal india to focus on production saying it cannot let the after the recent wage hike the firm had signed the agreement hike in salaries for five years against workers demand for a raise it will have an estimated impact of crore per year to the world largest coal \n",
      "실제 요약 : govt asks india to on production post hike\n",
      "예측 요약 :  no to not public on duty\n",
      "\n",
      "\n",
      "원문 : from russia was crowned the winner of the miss uk contest on saturday it was held at the art building in east london the contest is in its sixth year and aims to find the most eastern european woman from the former soviet union countries living in the uk \n",
      "실제 요약 : russia miss uk\n",
      "예측 요약 :  russia wins its first gay mayor\n",
      "\n",
      "\n",
      "원문 : miss on the stage as soon as she was announced the winner of the beauty pageant miss grand international on thursday when the winner was being announced she was holding hands with the first runner up india chaudhary tried to help but failed to catch her as she collapsed and hit the floor \n",
      "실제 요약 : miss on stage after winning miss grand int l\n",
      "예측 요약 :  miss miss miss miss nobel peace after\n",
      "\n",
      "\n",
      "원문 : the income tax department has seized crore and kilograms of gold and silver jewellery during raids conducted on the premises of leading auto parts manufacturing company jay bharat maruti group the i t department has been conducting searches since thursday on around locations across delhi ncr linked to the group \n",
      "실제 요약 : crore seized during raids on bharat group\n",
      "예측 요약 :  i t gold worth cr seized in\n",
      "\n",
      "\n",
      "원문 : actress janhvi kapoor while speaking about the of nepotism said the whole nepotism debate did make me question if i to be in this position i do come from a place of privilege i would be the person on the planet if i did not do anything about it she added \n",
      "실제 요약 : i if i to be in this janhvi on\n",
      "예측 요약 :  i am not a on my brother\n",
      "\n",
      "\n",
      "원문 : future group founder and group ceo kishore biyani while talking about the government new e commerce policy said many companies including a lot of online will have to shut shop biyani said huge discounts offered by online platforms were driven by capital and balance sheet and not really by skills the new policy will come into effect from february \n",
      "실제 요약 : many online will have to shut\n",
      "예측 요약 :  future future group to\n",
      "\n",
      "\n",
      "원문 : a part of tower was auctioned for crore three times the original estimate at an auction in paris on tuesday the year old feet in height weighs about kilograms and includes about steps it connected the top two floors of the tower before it was cut out in to a lift \n",
      "실제 요약 : of tower sell for crore at auction in paris\n",
      "예측 요약 :  auctioned for crore at auction\n",
      "\n",
      "\n",
      "원문 : real madrid star cristiano ronaldo was placed fifth on the forbes list of the world highest paid celebrities of ronaldo with an earning of million over the past year was also listed as the highest paid athlete in the world american pop star and british writer were the top three celebrities on the list respectively \n",
      "실제 요약 : ronaldo among world top highest paid\n",
      "예측 요약 :  ronaldo named world highest paid\n",
      "\n",
      "\n",
      "원문 : reacting to rjd leader tejashwi yadav recent tweet wherein he wished good morning and said just had dinner a user wrote ab bhi time hai bhai th th me admission kuch meanwhile another tweet read tejashwi yadav that the dinner he ate in the morning came from \n",
      "실제 요약 : is to rahul gandhi tweets user\n",
      "예측 요약 :  twitter reacts to rishi\n",
      "\n",
      "\n",
      "원문 : the petitions that the supreme court is hearing against the constitutional validity of aadhaar that it violates the right to privacy and may allow the government to increase surveillance of citizens the petitions further challenge that no one should be denied government schemes and public services that they are entitled to due to lack of aadhaar card \n",
      "실제 요약 : what is the sc hearing against aadhaar\n",
      "예측 요약 :  aadhaar for sc to aadhaar\n",
      "\n",
      "\n",
      "원문 : the official twitter account for mcdonald today tweeted black friday need copy and link following this twitter users posted someone not paying their marketing and i feel like kanye wrote this iconic meanwhile another tweeted instead of a black friday deal how about you just get your ice cream machines to work \n",
      "실제 요약 : twitter reacts to mcdonald black tweet\n",
      "예측 요약 :  twitter users slam account\n",
      "\n",
      "\n",
      "원문 : mumbai indians captain rohit sharma is the only indian player to have scored a hundred and taken a hat trick in the indian premier league rohit who turns today took a hat trick against his current team mumbai indians while representing in in he brought up his maiden ipl century off balls against kolkata knight riders \n",
      "실제 요약 : rohit only indian player with a hat trick and in ipl\n",
      "예측 요약 :  rohit sharma to hit sixes in odis\n",
      "\n",
      "\n",
      "원문 : egypt has blocked the website of one of its most prominent financial newspapers al according to reports this comes after egypt blocked media websites last week accusing them of supporting terrorism and spreading false news notably the company had its assets frozen last december for alleged ties with the muslim a charge it \n",
      "실제 요약 : egypt blocks financial media\n",
      "예측 요약 :  egypt blocks mn for its own\n",
      "\n",
      "\n",
      "원문 : google apple and ibm are among companies hiring for some of their top jobs with the interested candidates not to present their college degrees people who don t go to school and make their way in the world those are human said google former of people operations currently the development is limited to the us \n",
      "실제 요약 : google apple stop asking for for some top jobs\n",
      "예측 요약 :  google microsoft firms to\n",
      "\n",
      "\n",
      "원문 : posters claiming that suspended bjp mp azad has gone missing have been put up in his constituency in bihar this came after azad did not visit the district during recent floods which claimed the lives of people the posters request anyone who finds the missing mp to inform flood victims as they have been looking for him \n",
      "실제 요약 : missing for mp put up in bihar\n",
      "예측 요약 :  bjp mp bjp mp missing missing at\n",
      "\n",
      "\n",
      "원문 : reports that congress vice president rahul gandhi entered himself as non hindu at gujarat temple the party has claimed that gandhi is a hindu this comes amid a controversy over an image of gandhi name entered in the register maintained for non hindu visitors at the temple which went viral online \n",
      "실제 요약 : rahul is hindu congress on temple row\n",
      "예측 요약 :  rahul gandhi in gujarat\n",
      "\n",
      "\n",
      "원문 : the police have released the pictures of the three suspected hizbul mujahideen militants who had killed year old indian army officer in jammu and kashmir on tuesday night the police have also announced for providing any information on the hizbul suspects had gone to attend his cousin wedding in when he was abducted and killed \n",
      "실제 요약 : pics of who killed army officer released\n",
      "예측 요약 :  police in j k\n",
      "\n",
      "\n",
      "원문 : i t department has recovered luxury cars worth over crore from vk sasikala aide who had allegedly attempted to bribe the election commission for party symbol reportedly porsche rolls range rover are among the cars recovered investigations revealed that paid for the vehicles in cash and was allegedly them while he was under arrest \n",
      "실제 요약 : i t cars worth crore from sasikala aide\n",
      "예측 요약 :  cars stolen from aap\n",
      "\n",
      "\n",
      "원문 : prime minister narendra modi on friday said that a strong india china relationship is not only important for the mutual benefit of the people of india and china but also for the world his remarks came during a meeting with chinese state earlier on friday met national security adviser ajit for annual boundary negotiations \n",
      "실제 요약 : india china ties for the world pm narendra modi\n",
      "예측 요약 :  india not in china pm modi\n",
      "\n",
      "\n",
      "원문 : the world second most expensive footballer came off the bench to score his first goal for barcelona as they reached the final barcelona beat to reach a record fifth successive cup final winners of the trophy in each of the last three campaigns the will face in the final \n",
      "실제 요약 : world nd most expensive player scores st goal for bar a\n",
      "예측 요약 :  world no nadal to score in a match\n",
      "\n",
      "\n",
      "원문 : twitter users mocked us president donald trump using the hashtag words with tweets like you will never be obama and clear and present danger while some users tweeted property of vladimir putin and we did not want you others wrote worst fake president ever most mocked man alive and requires and imprisonment \n",
      "실제 요약 : twitter users trump with\n",
      "예측 요약 :  twitter users trump tweets on\n",
      "\n",
      "\n",
      "원문 : the delhi government has withdrawn its order increasing one time parking charges for cars by up to times from january the order had raised the one time parking charges from existing to up to based on price of the vehicles it was issued on behalf of the then transport commissioner joshi on her last working day \n",
      "실제 요약 : delhi govt withdraws order one time parking charges\n",
      "예측 요약 :  delhi govt to use electric buses to\n",
      "\n",
      "\n",
      "원문 : reported record results in the first half of helping the nissan alliance rivals volkswagen and toyota to become the world largest carmaker the group sold cars globally due to the addition of motors to the alliance volkswagen which was the world s biggest carmaker in despite its diesel scandal sold during the period \n",
      "실제 요약 : becomes world largest\n",
      "예측 요약 :  world largest world most expensive\n",
      "\n",
      "\n",
      "원문 : addressing a conference on islamic heritage pm narendra modi on thursday said the fight against terrorism and is not aimed at any particular religion it is aimed against a that leads youth to torture innocent people pm modi added the conference was held during king of jordan abdullah ii bin al three day visit to india \n",
      "실제 요약 : fight against terrorism not at any pm modi\n",
      "예측 요약 :  pm modi terror attacks on terrorism pm\n",
      "\n",
      "\n",
      "원문 : students of ranchi national university of study and research in law on wednesday shut the main gate of the university in protest against alleged and of funds refusing to let any university official enter the premises the students alleged that they were threatened with if they did not end the protest \n",
      "실제 요약 : students out officials at in protest\n",
      "예측 요약 :  students to protest against\n",
      "\n",
      "\n",
      "원문 : a russian passenger plane made an emergency landing in on tuesday after a drunk man tried to it and reportedly demanded that it be diverted to afghanistan the passenger who was arrested later had tried to break into the cockpit claiming he was armed he faces potential charges of a plane with threats of violence \n",
      "실제 요약 : drunk man tries to russia plane and fly to afghanistan held\n",
      "예측 요약 :  russian plane with drunk passenger\n",
      "\n",
      "\n",
      "원문 : american rapper kanye west has announced that he is himself from politics claiming that he has been used to spread messages he does not believe in announcement came after he was linked to the campaign that black americans to quit the democratic party west has been a supporter of us president donald trump \n",
      "실제 요약 : i have been used as he himself from politics\n",
      "예측 요약 :  i was a on\n",
      "\n",
      "\n",
      "원문 : us president donald trump former national security adviser michael on friday pleaded guilty to lying to the fbi in the investigation related to russia meddling in the presidential elections he was charged with making false statements about his contacts with russia ambassador to the us sergey three former trump aides had previously been charged with making false statements \n",
      "실제 요약 : trump former guilty to about russia links\n",
      "예측 요약 :  trump aide charged in us over probe\n",
      "\n",
      "\n",
      "원문 : the passports of travellers flying into dubai were with visas by airport officials on tuesday to mark the international day of happiness the face design on the passports read welcome to the happy uae in both and english meanwhile the dubai metro gave surprise gifts to people at several stations to celebrate the day \n",
      "실제 요약 : get visa at dubai airport on day\n",
      "예측 요약 :  airport to be held in dubai\n",
      "\n",
      "\n",
      "원문 : the central bureau of investigation will investigate the cambridge analytica data breach scandal union it minister ravi shankar prasad said in the rajya sabha on thursday revealing that cambridge analytica did not respond to several government notices the minister said it is suspected that cambridge analytica may have been involved in illegally obtaining data of indians which could be misused \n",
      "실제 요약 : cbi to data breach prasad\n",
      "예측 요약 :  cbi to probe cbi to cbi\n",
      "\n",
      "\n",
      "원문 : the shares of new delhi based pc jeweller have nearly doubled in days returning about returns on the investment the stock of pc jeweller has risen at least to from a share price level of as on october on nse pc jeweller is the country second largest jewellery maker among the publicly listed companies \n",
      "실제 요약 : shares nearly double in days with about return\n",
      "예측 요약 :  shares lakh after months\n",
      "\n",
      "\n",
      "원문 : the border security force on wednesday sacked constable tej bahadur yadav who had uploaded a video clip on social media alleging poor quality of food being served to jawans at border posts this comes after a court martial found that constable yadav actions damaged the image of the bsf under bsf rules he can appeal the suspension within months \n",
      "실제 요약 : bsf jawan who had video on poor quality of food\n",
      "예측 요약 :  army officer suspended for video on food\n",
      "\n",
      "\n",
      "원문 : prime minister narendra modi responded to congress vice president rahul gandhi vikas has gone remark in gujarat with the slogan i am vikas i am gujarat the congress ran a campaign vikas slamming bjp promise of development in gujarat pm modi said in his rally that will only vikas gujarat \n",
      "실제 요약 : pm modi to rahul says i am\n",
      "예측 요약 :  rahul gandhi tweets rahul gandhi\n",
      "\n",
      "\n",
      "원문 : former west indian fast bowler dismissed seven australian batsmen within a span of balls giving away just one run in a test match on january spell helped his team bowl out australia for in the first innings after being for at one point ended with first innings figures of \n",
      "실제 요약 : pacer once took for just run in balls in a test\n",
      "예측 요약 :  ex aus spinner takes balls in balls\n",
      "\n",
      "\n"
     ]
    }
   ],
   "source": [
    "for i in range(50, 100):\n",
    "    print(\"원문 :\", seq2text(encoder_input_test[i]))\n",
    "    print(\"실제 요약 :\", seq2summary(decoder_input_test[i]))\n",
    "    print(\"예측 요약 :\", decode_sequence(encoder_input_test[i].reshape(1, text_max_len)))\n",
    "    print(\"\\n\")"
   ]
  },
  {
   "cell_type": "markdown",
   "metadata": {},
   "source": [
    "# Step 5. Summa를 이용해서 추출적 요약해보기"
   ]
  },
  {
   "cell_type": "code",
   "execution_count": 59,
   "metadata": {},
   "outputs": [
    {
     "name": "stderr",
     "output_type": "stream",
     "text": [
      "No model was supplied, defaulted to sshleifer/distilbart-cnn-12-6 (https://huggingface.co/sshleifer/distilbart-cnn-12-6)\n"
     ]
    },
    {
     "name": "stdout",
     "output_type": "stream",
     "text": [
      "Summary:\n",
      " madhesi morcha  an alliance of seven political parties has withdrawn support to pm pushpa kamal dahal led nepal government . The morcha has seats in the parliament but there is no immediate threat to the government\n"
     ]
    }
   ],
   "source": [
    "from transformers import pipeline\n",
    "\n",
    "# 요약 파이프라인 생성\n",
    "summarizer = pipeline(\"summarization\")\n",
    "\n",
    "# 요약 실행\n",
    "summary = summarizer(text, max_length=50, min_length=25, do_sample=False)\n",
    "\n",
    "print('Summary:')\n",
    "print(summary[0]['summary_text'])"
   ]
  },
  {
   "cell_type": "code",
   "execution_count": 61,
   "metadata": {},
   "outputs": [
    {
     "name": "stderr",
     "output_type": "stream",
     "text": [
      "No model was supplied, defaulted to sshleifer/distilbart-cnn-12-6 (https://huggingface.co/sshleifer/distilbart-cnn-12-6)\n",
      "Your max_length is set to 100, but you input_length is only 83. You might consider decreasing max_length manually, e.g. summarizer('...', max_length=50)\n"
     ]
    },
    {
     "name": "stdout",
     "output_type": "stream",
     "text": [
      "Summary:\n",
      " Prime Minister Narendra Modi said demonetisation and RERA have put a check on black money that used to be \"parked in the real estate sector\" He said 'UDAN' scheme has boosted the development of the country's aviation sector .\n"
     ]
    }
   ],
   "source": [
    "import pandas as pd\n",
    "from transformers import pipeline\n",
    "\n",
    "# 데이터 읽기\n",
    "data1 = pd.read_csv('news_summary_more.csv', encoding='iso-8859-1')\n",
    "data1_text = data1['text'].iloc[i]\n",
    "\n",
    "# 요약 파이프라인 생성\n",
    "summarizer = pipeline(\"summarization\")\n",
    "\n",
    "# 요약 실행 (ratio 대신 max_length와 min_length로 설정)\n",
    "summary = summarizer(data1_text, max_length=100, min_length=30, do_sample=False)\n",
    "\n",
    "# 결과 출력\n",
    "print('Summary:')\n",
    "print(summary[0]['summary_text'])"
   ]
  },
  {
   "cell_type": "code",
   "execution_count": 65,
   "metadata": {},
   "outputs": [
    {
     "name": "stderr",
     "output_type": "stream",
     "text": [
      "[nltk_data] Downloading package punkt to /aiffel/nltk_data...\n",
      "[nltk_data]   Unzipping tokenizers/punkt.zip.\n"
     ]
    },
    {
     "name": "stdout",
     "output_type": "stream",
     "text": [
      "Summary:\n",
      "Saurav Kant, an alumnus of upGrad and IIIT-B's PG Program in Machine learning and Artificial Intelligence, was a Sr Systems Engineer at Infosys with almost 5 years of work experience.\n",
      "The program and upGrad's 360-degree career support helped him transition to a Data Scientist at Tech Mahindra with 90% salary hike.\n",
      "upGrad's Online Power Learning has powered 3 lakh+ careers.\n"
     ]
    }
   ],
   "source": [
    "import nltk\n",
    "from sumy.parsers.plaintext import PlaintextParser\n",
    "from sumy.nlp.tokenizers import Tokenizer\n",
    "from sumy.summarizers.lsa import LsaSummarizer\n",
    "\n",
    "# NLTK punkt 다운로드\n",
    "nltk.download('punkt')\n",
    "\n",
    "# 텍스트 추출\n",
    "data1_text = data1['text'].iloc[0]\n",
    "\n",
    "# 텍스트 파서와 토크나이저 생성\n",
    "parser = PlaintextParser.from_string(data1_text, Tokenizer(\"english\"))\n",
    "summarizer = LsaSummarizer()\n",
    "\n",
    "# 요약 실행 (5 문장으로 요약)\n",
    "summary = summarizer(parser.document, 5)\n",
    "\n",
    "# 결과 출력\n",
    "print(\"Summary:\")\n",
    "for sentence in summary:\n",
    "    print(sentence)"
   ]
  },
  {
   "cell_type": "code",
   "execution_count": 66,
   "metadata": {},
   "outputs": [
    {
     "name": "stdout",
     "output_type": "stream",
     "text": [
      "원문 [50]: vice president venkaiah naidu has said the billion pnb scam brought bad name to the system and is an eye opener for everyone he also emphasised the need for greater transparency and corporate governance earlier he said only two three instances of nirav modi choksi and vijay mallya but they are damaging the image of the country \n",
      "실제 요약 [50]: pnb scam bad name an vice prez naidu\n",
      "모델 예측 요약 [50]:  you are to be to make a choksi vp\n",
      "Summa 요약 [50]: Former Finance Minister Yashwant Sinha on Tuesday demanded a probe into the alleged diversion of loans worth Ã¢ÂÂ¹31,000 crore by Dewan Housing Finance (DHFL).\n",
      "\n",
      "====================================================================================================\n",
      "\n",
      "원문 [51]: russia ambassador to said any us missiles fired at syria would be shot down and their launch sites will be targeted us president donald trump had vowed to respond to an alleged chemical attack by syria government a russian ally within hours the us had fired missiles at a syrian after a similar attack last year \n",
      "실제 요약 [51]: us fired at syria will be shot down russia\n",
      "모델 예측 요약 [51]:  russia russia syria syria syria\n",
      "Summa 요약 [51]: Boeing retained its position as the world's largest planemaker for the seventh straight year, delivering 806 aircraft in 2018.\n",
      "\n",
      "====================================================================================================\n",
      "\n",
      "원문 [52]: the champagne gold train on its maiden journey from tokyo on may the car train passengers in with prices reaching up to per person operated by the east japan railway it features a five star a menu by a starred chef and and observatory cars \n",
      "실제 요약 [52]: in pictures japan train\n",
      "모델 예측 요약 [52]:  train train to train in\n",
      "Summa 요약 [52]: Summa 요약이 생성되지 않았습니다.\n",
      "\n",
      "====================================================================================================\n",
      "\n",
      "원문 [53]: actress priyanka chopra wore a dress worth by spanish retailer to meet queen of jordan priyanka who is a unicef global goodwill ambassador was in jordan to interact with children refugees from syria queen is a true inspiration her efforts to help those in need comes straight from the heart wrote priyanka on instagram \n",
      "실제 요약 [53]: priyanka a dress while meeting queen of\n",
      "모델 예측 요약 [53]:  priyanka chopra wears wedding at\n",
      "Summa 요약 [53]: Summa 요약이 생성되지 않았습니다.\n",
      "\n",
      "====================================================================================================\n",
      "\n",
      "원문 [54]: a bengaluru court on saturday sentenced a former hr manager with infosys to life imprisonment for murdering his wife in the year old had reportedly and slit his wife throat because she often abused his parents the court sentenced him to life imprisonment for the murder and five more years of imprisonment for providing false information to the police \n",
      "실제 요약 [54]: b luru ex infosys manager gets life term for wife\n",
      "모델 예측 요약 [54]:  ex jail term for killing wife\n",
      "Summa 요약 [54]: Filmmaker Pooja Bhatt, while talking about the presentation of women in her films, said, \"I can never look at a female body, even if it's naked, in a vulgar manner.\" \"Our audience can say...the women in my films are bold or sensual, but never ever vulgar,\" she added.\n",
      "\n",
      "====================================================================================================\n",
      "\n",
      "원문 [55]: the national payments corporation of india on thursday launched an version of the payments interface customers can now link account to in addition to current and savings account and the transaction limit has been doubled to lakh also allows customers to check before making a payment to the merchant \n",
      "실제 요약 [55]: what are the features of launched on\n",
      "모델 예측 요약 [55]:  launches india based mobile\n",
      "Summa 요약 [55]: Actress Mishti, who has featured in 'Manikarnika: The Queen of Jhansi', has said the film's co-director Kangana Ranaut made false promises to the cast.\n",
      "\n",
      "====================================================================================================\n",
      "\n",
      "원문 [56]: over residents from and garden in bengaluru staged a protest against the bruhat bengaluru mahanagara palike alleged move to cut over trees along the old airport road the trees were reportedly to work on a kilometre signal free corridor aimed at movement of traffic \n",
      "실제 요약 [56]: bengaluru protest of trees by civic body\n",
      "모델 예측 요약 [56]:  bengaluru workers protest against\n",
      "Summa 요약 [56]: The high-powered committee led by PM Narendra Modi to select the next CBI Director will meet again on February 1, Congress leader Mallikarjun Kharge has said.\n",
      "\n",
      "====================================================================================================\n",
      "\n",
      "원문 [57]: reserve bank of india reserves panel chairman has said the central bank is to the government the autonomous institution has to deliver the services that the government has approved as part of policy framework he added differences in views have to be resolved in the country interest the former rbi governor further said \n",
      "실제 요약 [57]: rbi to government panel chairman\n",
      "모델 예측 요약 [57]:  rbi to take to\n",
      "Summa 요약 [57]: Nevada State Athletic Commission has banned MMA fighters Conor McGregor and Khabib Nurmagomedov for six months and nine months respectively over their roles in the mass brawl that occurred after their fight at UFC 229 last October.\n",
      "\n",
      "====================================================================================================\n",
      "\n",
      "원문 [58]: researchers have developed a solar cell that uses an artificial system to generate hydrogen fuel and electricity at the same time the silicon in the cell the current produced by the sunlight energy and allowing it to split the water in hydrogen oxygen and electricity according to the researchers the device has a combined efficiency of \n",
      "실제 요약 [58]: solar at same time made\n",
      "모델 예측 요약 [58]:  mit develops to\n",
      "Summa 요약 [58]: Pakistan captain Sarfaraz Ahmed, who has been banned for four matches over racist remarks, took an apparent dig at his critics by sharing a video of a child reciting 'log hai na' poem on Twitter.\n",
      "\n",
      "====================================================================================================\n",
      "\n",
      "원문 [59]: a us man has sued an park alleging that he contracted an eye eating on one of its water rides the lawsuit claims the water at the ride was dirty and the complainant had to undergo an extremely surgery but part of the could still not be removed he is seeking in damages \n",
      "실제 요약 [59]: man sues park for l over eating\n",
      "모델 예측 요약 [59]:  us man sues for water\n",
      "Summa 요약 [59]: Sreesanth further said the bookie tried dragging him into spot-fixing but he didn't fall for it.\n",
      "\n",
      "====================================================================================================\n",
      "\n",
      "원문 [60]: taapsee pannu while responding to a troll on twitter who slammed her for her outfit tweeted get well soon the user commented that it was because of pictures like the one of her in a outfit that men got to women and harassed them arjun kapoor taapsee for her response to another user who criticised her picture \n",
      "실제 요약 [60]: get well soon taapsee to who slammed her\n",
      "모델 예측 요약 [60]:  taapsee trolled for calling her\n",
      "Summa 요약 [60]: The Finance Ministry on Wednesday said the government will present an Interim Budget on February 1.\n",
      "\n",
      "====================================================================================================\n",
      "\n",
      "원문 [61]: american pornstar daniels lawyer has said it is time for us president donald trump to up on his client offer daniels recently offered to return an amount of allegedly paid to her by trump lawyer in return for her silence over her alleged affair with trump the deadline to accept the offer expired on tuesday \n",
      "실제 요약 [61]: lawyer warns trump after deadline\n",
      "모델 예측 요약 [61]:  us lawyer trump to pay for\n",
      "Summa 요약 [61]: US President Donald Trump on Wednesday called his country's top intelligence chiefs \"naive\" and \"wrong\" on Iran and added that they should perhaps \"go back to school\".\n",
      "\n",
      "====================================================================================================\n",
      "\n",
      "원문 [62]: while speaking about his co star rishi kapoor actor said he is the most honest person i have seen he is very open and will say if he likes something of and share as well he added further said that he had a very different perception of rishi before meeting him \n",
      "실제 요약 [62]: rishi is the most person i have seen actor\n",
      "모델 예측 요약 [62]:  i am a in the world on rishi kapoor\n",
      "Summa 요약 [62]: A senior priest at the Vatican who handled cases of sexual abuse has quit after being accused of sexual abuse by a former nun.\n",
      "\n",
      "====================================================================================================\n",
      "\n",
      "원문 [63]: fifa will raise the prize money for the women world cup from million to million starting with next year edition in france fifa president announced on friday further said that million would be made available for pre tournament while the players club will also be paid for their players taking part in the tournament \n",
      "실제 요약 [63]: fifa women wc will have prize fund to mn\n",
      "모델 예측 요약 [63]:  fifa world cup to be paid crore prize\n",
      "Summa 요약 [63]: A 22-year-old writer turned down a job offer, claiming she was bullied to the point of tears during her two-hour interview by a UK company's CEO.\n",
      "\n",
      "====================================================================================================\n",
      "\n",
      "원문 [64]: sunny deol has been cleared by the censor board with an a certificate after years following a court order directing the film to be released without any cuts a stay order against the film release was issued in over its trailer which showed the actors the film release date is yet to be announced \n",
      "실제 요약 [64]: board clears sunny after yrs\n",
      "모델 예측 요약 [64]:  sunny to hold bollywood after years\n",
      "Summa 요약 [64]: Noida Police has arrested Sector 20 station in-charge Manoj Pant and three journalists for allegedly extorting money from a call centre owner for removing his name from an FIR.\n",
      "\n",
      "====================================================================================================\n",
      "\n",
      "원문 [65]: japanese automaker nissan has unveiled and floor that park themselves using autonomous driving technology at the park hotel in japan the technology makes the objects automatically return to their designated spots at the push of a button the technology is being demonstrated to guests and reduce staff nissan said \n",
      "실제 요약 [65]: that park unveiled\n",
      "모델 예측 요약 [65]:  unveils car that can crash\n",
      "Summa 요약 [65]: Airtel Africa, the holding company for Airtel's operations in 14 African countries, is preparing for an initial public offering.\n",
      "\n",
      "====================================================================================================\n",
      "\n",
      "원문 [66]: the government has asked coal india to focus on production saying it cannot let the after the recent wage hike the firm had signed the agreement hike in salaries for five years against workers demand for a raise it will have an estimated impact of crore per year to the world largest coal \n",
      "실제 요약 [66]: govt asks india to on production post hike\n",
      "모델 예측 요약 [66]:  no to not public on duty\n",
      "Summa 요약 [66]: Actor Shreyas Talpade said that 'Golmaal' filmmaker Rohit Shetty is still working on the script for the fifth instalment of the 'Golmaal' film franchise.\n",
      "Once he's done with the...scripting, he'll take a call,Ã¢ÂÂ the actor added.\n",
      "\n",
      "====================================================================================================\n",
      "\n",
      "원문 [67]: from russia was crowned the winner of the miss uk contest on saturday it was held at the art building in east london the contest is in its sixth year and aims to find the most eastern european woman from the former soviet union countries living in the uk \n",
      "실제 요약 [67]: russia miss uk\n",
      "모델 예측 요약 [67]:  russia wins its first gay mayor\n",
      "Summa 요약 [67]: A 72-year-old man named Terry Sanderson has sued 'Avengers' actress Gwyneth Paltrow for allegedly crashing into him while skiing, and is seeking $3.1 million (over Ã¢ÂÂ¹22 crore) in damages.\n",
      "\n",
      "====================================================================================================\n",
      "\n",
      "원문 [68]: miss on the stage as soon as she was announced the winner of the beauty pageant miss grand international on thursday when the winner was being announced she was holding hands with the first runner up india chaudhary tried to help but failed to catch her as she collapsed and hit the floor \n",
      "실제 요약 [68]: miss on stage after winning miss grand int l\n",
      "모델 예측 요약 [68]:  miss miss miss miss nobel peace after\n",
      "Summa 요약 [68]: Yami Gautam was felicitated by Border Security Force (BSF) in Amritsar for her performance in 'Uri: The Surgical Strike'.\n",
      "\n",
      "====================================================================================================\n",
      "\n",
      "원문 [69]: the income tax department has seized crore and kilograms of gold and silver jewellery during raids conducted on the premises of leading auto parts manufacturing company jay bharat maruti group the i t department has been conducting searches since thursday on around locations across delhi ncr linked to the group \n",
      "실제 요약 [69]: crore seized during raids on bharat group\n",
      "모델 예측 요약 [69]:  i t gold worth cr seized in\n",
      "Summa 요약 [69]: Social media giant Facebook has hired privacy critic Nate Cardozo, formerly the top legal counsel for US privacy watchdog EFF, as a privacy policy manager for WhatsApp. Cardozo had called Facebook a \"faceless corporation\" whose business model depends on user's confusion and indifference about privacy, in October 2015.\n",
      "\n",
      "====================================================================================================\n",
      "\n",
      "원문 [70]: actress janhvi kapoor while speaking about the of nepotism said the whole nepotism debate did make me question if i to be in this position i do come from a place of privilege i would be the person on the planet if i did not do anything about it she added \n",
      "실제 요약 [70]: i if i to be in this janhvi on\n",
      "모델 예측 요약 [70]:  i am not a on my brother\n",
      "Summa 요약 [70]: \"WeÃ¢ÂÂve decided to go back to (iPhone prices) more commensurate with...local prices...a year ago,\" Cook added.\n",
      "\n",
      "====================================================================================================\n",
      "\n",
      "원문 [71]: future group founder and group ceo kishore biyani while talking about the government new e commerce policy said many companies including a lot of online will have to shut shop biyani said huge discounts offered by online platforms were driven by capital and balance sheet and not really by skills the new policy will come into effect from february \n",
      "실제 요약 [71]: many online will have to shut\n",
      "모델 예측 요약 [71]:  future future group to\n",
      "Summa 요약 [71]: \"The majority of fatalities from shark bites is due to blood loss...shock from blood loss,\" a scientist said.\n",
      "\n",
      "====================================================================================================\n",
      "\n",
      "원문 [72]: a part of tower was auctioned for crore three times the original estimate at an auction in paris on tuesday the year old feet in height weighs about kilograms and includes about steps it connected the top two floors of the tower before it was cut out in to a lift \n",
      "실제 요약 [72]: of tower sell for crore at auction in paris\n",
      "모델 예측 요약 [72]:  auctioned for crore at auction\n",
      "Summa 요약 [72]: BJP National Secretary Rahul Sinha on Wednesday asked the party workers in West Bengal to come armed with sticks to PM Narendra Modi's rally in the state on February 2.\n",
      "\n",
      "====================================================================================================\n",
      "\n",
      "원문 [73]: real madrid star cristiano ronaldo was placed fifth on the forbes list of the world highest paid celebrities of ronaldo with an earning of million over the past year was also listed as the highest paid athlete in the world american pop star and british writer were the top three celebrities on the list respectively \n",
      "실제 요약 [73]: ronaldo among world top highest paid\n",
      "모델 예측 요약 [73]:  ronaldo named world highest paid\n",
      "Summa 요약 [73]: BJP President Amit Shah on Wednesday took a dig at the Opposition parties saying that the 'mahagathbandhan' for the Opposition is 4B - \"Bua-Bhatija-Bhai-Behen\".\n",
      "\n",
      "====================================================================================================\n",
      "\n",
      "원문 [74]: reacting to rjd leader tejashwi yadav recent tweet wherein he wished good morning and said just had dinner a user wrote ab bhi time hai bhai th th me admission kuch meanwhile another tweet read tejashwi yadav that the dinner he ate in the morning came from \n",
      "실제 요약 [74]: is to rahul gandhi tweets user\n",
      "모델 예측 요약 [74]:  twitter reacts to rishi\n",
      "Summa 요약 [74]: Volkswagen's sales, including its MAN and Scania heavy trucks and buses, rose 0.9% to 10.83 million in 2018, the company had said.\n",
      "\n",
      "====================================================================================================\n",
      "\n",
      "원문 [75]: the petitions that the supreme court is hearing against the constitutional validity of aadhaar that it violates the right to privacy and may allow the government to increase surveillance of citizens the petitions further challenge that no one should be denied government schemes and public services that they are entitled to due to lack of aadhaar card \n",
      "실제 요약 [75]: what is the sc hearing against aadhaar\n",
      "모델 예측 요약 [75]:  aadhaar for sc to aadhaar\n",
      "Summa 요약 [75]: Ousted Nissan Chairman Carlos Ghosn has said his arrest over alleged financial misconduct was led by \"plot and treason\" by the Japanese carmaker's executives who opposed its deeper integration with Renault and Mitsubishi.\n",
      "\n",
      "====================================================================================================\n",
      "\n",
      "원문 [76]: the official twitter account for mcdonald today tweeted black friday need copy and link following this twitter users posted someone not paying their marketing and i feel like kanye wrote this iconic meanwhile another tweeted instead of a black friday deal how about you just get your ice cream machines to work \n",
      "실제 요약 [76]: twitter reacts to mcdonald black tweet\n",
      "모델 예측 요약 [76]:  twitter users slam account\n",
      "Summa 요약 [76]: The government has cut down customs duty on import of parts and components for electric vehicles to 10-15%, down from the previous 15-30%.\n",
      "\n",
      "====================================================================================================\n",
      "\n",
      "원문 [77]: mumbai indians captain rohit sharma is the only indian player to have scored a hundred and taken a hat trick in the indian premier league rohit who turns today took a hat trick against his current team mumbai indians while representing in in he brought up his maiden ipl century off balls against kolkata knight riders \n",
      "실제 요약 [77]: rohit only indian player with a hat trick and in ipl\n",
      "모델 예측 요약 [77]:  rohit sharma to hit sixes in odis\n",
      "Summa 요약 [77]: Government officials on Wednesday said that a swine flu outbreak has killed 76 people this year in Rajasthan.\n",
      "\n",
      "====================================================================================================\n",
      "\n",
      "원문 [78]: egypt has blocked the website of one of its most prominent financial newspapers al according to reports this comes after egypt blocked media websites last week accusing them of supporting terrorism and spreading false news notably the company had its assets frozen last december for alleged ties with the muslim a charge it \n",
      "실제 요약 [78]: egypt blocks financial media\n",
      "모델 예측 요약 [78]:  egypt blocks mn for its own\n",
      "Summa 요약 [78]: \"North Korean leaders view nuclear arms as critical to regime survival,\" he added.\n",
      "\n",
      "====================================================================================================\n",
      "\n",
      "원문 [79]: google apple and ibm are among companies hiring for some of their top jobs with the interested candidates not to present their college degrees people who don t go to school and make their way in the world those are human said google former of people operations currently the development is limited to the us \n",
      "실제 요약 [79]: google apple stop asking for for some top jobs\n",
      "모델 예측 요약 [79]:  google microsoft firms to\n",
      "Summa 요약 [79]: Further, three aircraft have been temporarily grounded to carry out an engine normalisation exercise, it added.\n",
      "\n",
      "====================================================================================================\n",
      "\n",
      "원문 [80]: posters claiming that suspended bjp mp azad has gone missing have been put up in his constituency in bihar this came after azad did not visit the district during recent floods which claimed the lives of people the posters request anyone who finds the missing mp to inform flood victims as they have been looking for him \n",
      "실제 요약 [80]: missing for mp put up in bihar\n",
      "모델 예측 요약 [80]:  bjp mp bjp mp missing missing at\n",
      "Summa 요약 [80]: Retired Justice Srikrishna's enquiry panel has found that ex-CEO Chanda Kochhar violated ICICI Bank's code of conduct.\n",
      "\n",
      "====================================================================================================\n",
      "\n",
      "원문 [81]: reports that congress vice president rahul gandhi entered himself as non hindu at gujarat temple the party has claimed that gandhi is a hindu this comes amid a controversy over an image of gandhi name entered in the register maintained for non hindu visitors at the temple which went viral online \n",
      "실제 요약 [81]: rahul is hindu congress on temple row\n",
      "모델 예측 요약 [81]:  rahul gandhi in gujarat\n",
      "Summa 요약 [81]: Ex-India cricketer Jacob Martin has been shifted to general ward from the ICU after being on a ventilator for nearly a month following a road accident, wherein he severely injured his lungs.\n",
      "\n",
      "====================================================================================================\n",
      "\n",
      "원문 [82]: the police have released the pictures of the three suspected hizbul mujahideen militants who had killed year old indian army officer in jammu and kashmir on tuesday night the police have also announced for providing any information on the hizbul suspects had gone to attend his cousin wedding in when he was abducted and killed \n",
      "실제 요약 [82]: pics of who killed army officer released\n",
      "모델 예측 요약 [82]:  police in j k\n",
      "Summa 요약 [82]: Tanya accused Perera of meeting country's Sports Minister to secure his place in the team.\n",
      "\n",
      "====================================================================================================\n",
      "\n",
      "원문 [83]: i t department has recovered luxury cars worth over crore from vk sasikala aide who had allegedly attempted to bribe the election commission for party symbol reportedly porsche rolls range rover are among the cars recovered investigations revealed that paid for the vehicles in cash and was allegedly them while he was under arrest \n",
      "실제 요약 [83]: i t cars worth crore from sasikala aide\n",
      "모델 예측 요약 [83]:  cars stolen from aap\n",
      "Summa 요약 [83]: Goa CM and ex-Defence Minister Manohar Parrikar has written a letter to Congress President Rahul Gandhi over his claim that Parrikar told him he has nothing to do with new Rafale deal.\n",
      "\n",
      "====================================================================================================\n",
      "\n",
      "원문 [84]: prime minister narendra modi on friday said that a strong india china relationship is not only important for the mutual benefit of the people of india and china but also for the world his remarks came during a meeting with chinese state earlier on friday met national security adviser ajit for annual boundary negotiations \n",
      "실제 요약 [84]: india china ties for the world pm narendra modi\n",
      "모델 예측 요약 [84]:  india not in china pm modi\n",
      "Summa 요약 [84]: PM Modi then asked his officers to urgently arrange for an ambulance for the cameraman.\n",
      "\n",
      "====================================================================================================\n",
      "\n",
      "원문 [85]: the world second most expensive footballer came off the bench to score his first goal for barcelona as they reached the final barcelona beat to reach a record fifth successive cup final winners of the trophy in each of the last three campaigns the will face in the final \n",
      "실제 요약 [85]: world nd most expensive player scores st goal for bar a\n",
      "모델 예측 요약 [85]:  world no nadal to score in a match\n",
      "Summa 요약 [85]: A couple got divorced minutes after their wedding ceremony got over in Gujarat's Gondal as a disagreement broke out and relatives from both sides started throwing dishes at each other during lunch.\n",
      "\n",
      "====================================================================================================\n",
      "\n",
      "원문 [86]: twitter users mocked us president donald trump using the hashtag words with tweets like you will never be obama and clear and present danger while some users tweeted property of vladimir putin and we did not want you others wrote worst fake president ever most mocked man alive and requires and imprisonment \n",
      "실제 요약 [86]: twitter users trump with\n",
      "모델 예측 요약 [86]:  twitter users trump tweets on\n",
      "Summa 요약 [86]: Gujarat Education Minister Bhupendrasinh Chudasma has written a congratulatory message to a yoga ashram run by rape-convict Asaram's organisation for observing February 14 as \"Matru-Pitru Pujan Divas\" (Mother-Father worship day).\n",
      "\n",
      "====================================================================================================\n",
      "\n",
      "원문 [87]: the delhi government has withdrawn its order increasing one time parking charges for cars by up to times from january the order had raised the one time parking charges from existing to up to based on price of the vehicles it was issued on behalf of the then transport commissioner joshi on her last working day \n",
      "실제 요약 [87]: delhi govt withdraws order one time parking charges\n",
      "모델 예측 요약 [87]:  delhi govt to use electric buses to\n",
      "Summa 요약 [87]: Venezuelan President NicolÃÂ¡s Maduro has claimed that his American counterpart Donald Trump ordered the Colombian government and the Colombian mafia to kill him.\n",
      "\n",
      "====================================================================================================\n",
      "\n",
      "원문 [88]: reported record results in the first half of helping the nissan alliance rivals volkswagen and toyota to become the world largest carmaker the group sold cars globally due to the addition of motors to the alliance volkswagen which was the world s biggest carmaker in despite its diesel scandal sold during the period \n",
      "실제 요약 [88]: becomes world largest\n",
      "모델 예측 요약 [88]:  world largest world most expensive\n",
      "Summa 요약 [88]: The richest among them is Hong Kong's Li Ka Shing with a net worth of $30.5 billion.\n",
      "\n",
      "====================================================================================================\n",
      "\n",
      "원문 [89]: addressing a conference on islamic heritage pm narendra modi on thursday said the fight against terrorism and is not aimed at any particular religion it is aimed against a that leads youth to torture innocent people pm modi added the conference was held during king of jordan abdullah ii bin al three day visit to india \n",
      "실제 요약 [89]: fight against terrorism not at any pm modi\n",
      "모델 예측 요약 [89]:  pm modi terror attacks on terrorism pm\n",
      "Summa 요약 [89]: Tamil Nadu food safety officials on Wednesday raided and seized 1,000 kgs of banned plastic items from Hotel Saravana Bhavan in Chennai's Vadapalani.\n",
      "\n",
      "====================================================================================================\n",
      "\n",
      "원문 [90]: students of ranchi national university of study and research in law on wednesday shut the main gate of the university in protest against alleged and of funds refusing to let any university official enter the premises the students alleged that they were threatened with if they did not end the protest \n",
      "실제 요약 [90]: students out officials at in protest\n",
      "모델 예측 요약 [90]:  students to protest against\n",
      "Summa 요약 [90]: Actress Shamita Shetty was verbally abused and her driver was slapped in an incident of road rage in Mumbai on Tuesday, as per reports.\n",
      "\n",
      "====================================================================================================\n",
      "\n",
      "원문 [91]: a russian passenger plane made an emergency landing in on tuesday after a drunk man tried to it and reportedly demanded that it be diverted to afghanistan the passenger who was arrested later had tried to break into the cockpit claiming he was armed he faces potential charges of a plane with threats of violence \n",
      "실제 요약 [91]: drunk man tries to russia plane and fly to afghanistan held\n",
      "모델 예측 요약 [91]:  russian plane with drunk passenger\n",
      "Summa 요약 [91]: Actress Vaani Kapoor said that trolling has become a norm on social media, adding, \"There's no one who hasn't got trolled on social media.\" \"Everybody is out there to pull the other person down but it'll only bother [you] if you let it bother you,\" Vaani added.\n",
      "\n",
      "====================================================================================================\n",
      "\n",
      "원문 [92]: american rapper kanye west has announced that he is himself from politics claiming that he has been used to spread messages he does not believe in announcement came after he was linked to the campaign that black americans to quit the democratic party west has been a supporter of us president donald trump \n",
      "실제 요약 [92]: i have been used as he himself from politics\n",
      "모델 예측 요약 [92]:  i was a on\n",
      "Summa 요약 [92]: Actress Sushmita Sen took to Instagram to share a joke on the subject of marriage.\n",
      "\"This is an insult to [the] beauty of marriage,\" an Instagram user commented on her post.\n",
      "\n",
      "====================================================================================================\n",
      "\n",
      "원문 [93]: us president donald trump former national security adviser michael on friday pleaded guilty to lying to the fbi in the investigation related to russia meddling in the presidential elections he was charged with making false statements about his contacts with russia ambassador to the us sergey three former trump aides had previously been charged with making false statements \n",
      "실제 요약 [93]: trump former guilty to about russia links\n",
      "모델 예측 요약 [93]:  trump aide charged in us over probe\n",
      "Summa 요약 [93]: Television actor Karanvir Bohra, who flew to Russia on Tuesday to attend a film festival, has been detained in Moscow due to passport damage.\n",
      "\n",
      "====================================================================================================\n",
      "\n",
      "원문 [94]: the passports of travellers flying into dubai were with visas by airport officials on tuesday to mark the international day of happiness the face design on the passports read welcome to the happy uae in both and english meanwhile the dubai metro gave surprise gifts to people at several stations to celebrate the day \n",
      "실제 요약 [94]: get visa at dubai airport on day\n",
      "모델 예측 요약 [94]:  airport to be held in dubai\n",
      "Summa 요약 [94]: While speaking about winning awards for his films, Shah Rukh Khan said, \"If I don't get an award, that award is at a loss.\" \"Sometimes, the prestige of an award increases when I receive it,\" the actor jokingly added.\n",
      "\n",
      "====================================================================================================\n",
      "\n",
      "원문 [95]: the central bureau of investigation will investigate the cambridge analytica data breach scandal union it minister ravi shankar prasad said in the rajya sabha on thursday revealing that cambridge analytica did not respond to several government notices the minister said it is suspected that cambridge analytica may have been involved in illegally obtaining data of indians which could be misused \n",
      "실제 요약 [95]: cbi to data breach prasad\n",
      "모델 예측 요약 [95]:  cbi to probe cbi to cbi\n",
      "Summa 요약 [95]: Actress Patralekhaa will make her debut in the Kannada film industry with the action-comedy film 'Where is my Kannadaka?' \"I can definitely say that itÃ¢ÂÂs a kind of role that I havenÃ¢ÂÂt portrayed on screen so far and that makes it special for me,\" the actress said in a statement.\n",
      "\n",
      "====================================================================================================\n",
      "\n",
      "원문 [96]: the shares of new delhi based pc jeweller have nearly doubled in days returning about returns on the investment the stock of pc jeweller has risen at least to from a share price level of as on october on nse pc jeweller is the country second largest jewellery maker among the publicly listed companies \n",
      "실제 요약 [96]: shares nearly double in days with about return\n",
      "모델 예측 요약 [96]:  shares lakh after months\n",
      "Summa 요약 [96]: Gmail on Tuesday faced a global outage, which also affected India, wherein certain users complained they faced a '404 error' message while trying to sign-in to their accounts.\n",
      "The error message read: \"The requested URL was not found on this server.\n",
      "\n",
      "====================================================================================================\n",
      "\n",
      "원문 [97]: the border security force on wednesday sacked constable tej bahadur yadav who had uploaded a video clip on social media alleging poor quality of food being served to jawans at border posts this comes after a court martial found that constable yadav actions damaged the image of the bsf under bsf rules he can appeal the suspension within months \n",
      "실제 요약 [97]: bsf jawan who had video on poor quality of food\n",
      "모델 예측 요약 [97]:  army officer suspended for video on food\n",
      "Summa 요약 [97]: Shiv Sena chief Uddhav Thackeray has asked the BJP to decide about the alliance with the Sena within 15 days and said the BJP should make a concrete proposal on the alliance.\n",
      "\n",
      "====================================================================================================\n",
      "\n",
      "원문 [98]: prime minister narendra modi responded to congress vice president rahul gandhi vikas has gone remark in gujarat with the slogan i am vikas i am gujarat the congress ran a campaign vikas slamming bjp promise of development in gujarat pm modi said in his rally that will only vikas gujarat \n",
      "실제 요약 [98]: pm modi to rahul says i am\n",
      "모델 예측 요약 [98]:  rahul gandhi tweets rahul gandhi\n",
      "Summa 요약 [98]: He said the Opposition is thinking about leading the country but does not have a leader.\n",
      "\n",
      "====================================================================================================\n",
      "\n",
      "원문 [99]: former west indian fast bowler dismissed seven australian batsmen within a span of balls giving away just one run in a test match on january spell helped his team bowl out australia for in the first innings after being for at one point ended with first innings figures of \n",
      "실제 요약 [99]: pacer once took for just run in balls in a test\n",
      "모델 예측 요약 [99]:  ex aus spinner takes balls in balls\n",
      "Summa 요약 [99]: He added decisions like demonetisation and RERA have put a check on black money that used to be \"parked in the real estate sector\".\n",
      "\n",
      "====================================================================================================\n",
      "\n"
     ]
    }
   ],
   "source": [
    "from summa.summarizer import summarize\n",
    "\n",
    "# 모델 요약과 Summa 요약을 비교\n",
    "for i in range(50, 100):\n",
    "    # 모델을 사용한 요약 생성\n",
    "    original_text = seq2text(encoder_input_test[i])\n",
    "    actual_summary = seq2summary(decoder_input_test[i])\n",
    "    predicted_summary = decode_sequence(encoder_input_test[i].reshape(1, text_max_len))\n",
    "    \n",
    "    # Summa를 사용한 요약 생성\n",
    "    summa_summary = \"\"\n",
    "    data1_text = data1['text'].iloc[i]  \n",
    "    if len(data1_text.split()) > 50:  # 원문이 충분히 길 경우에만 요약 시도\n",
    "        summa_summary = summarize(data1_text, ratio = 0.6)  \n",
    "    \n",
    "    if not summa_summary.strip():\n",
    "        summa_summary = \"Summa 요약이 생성되지 않았습니다.\"\n",
    "    \n",
    "    # 결과 출력\n",
    "    print(f\"원문 [{i}]:\", original_text)\n",
    "    print(f\"실제 요약 [{i}]:\", actual_summary)\n",
    "    print(f\"모델 예측 요약 [{i}]:\", predicted_summary)\n",
    "    print(f\"Summa 요약 [{i}]:\", summa_summary)\n",
    "    print(\"\\n\" + \"=\"*100 + \"\\n\")"
   ]
  },
  {
   "cell_type": "code",
   "execution_count": 67,
   "metadata": {},
   "outputs": [
    {
     "data": {
      "text/plain": [
       "'vice president venkaiah naidu has said the billion pnb scam brought bad name to the system and is an eye opener for everyone he also emphasised the need for greater transparency and corporate governance earlier he said only two three instances of nirav modi choksi and vijay mallya but they are damaging the image of the country '"
      ]
     },
     "execution_count": 67,
     "metadata": {},
     "output_type": "execute_result"
    }
   ],
   "source": [
    "seq2text(encoder_input_test[50])"
   ]
  },
  {
   "cell_type": "code",
   "execution_count": 68,
   "metadata": {},
   "outputs": [
    {
     "data": {
      "text/plain": [
       "headlines    Yashwant Sinha demands probe into alleged fund...\n",
       "text         Former Finance Minister Yashwant Sinha on Tues...\n",
       "Name: 50, dtype: object"
      ]
     },
     "execution_count": 68,
     "metadata": {},
     "output_type": "execute_result"
    }
   ],
   "source": [
    "data1.iloc[50]"
   ]
  }
 ],
 "metadata": {
  "colab": {
   "provenance": []
  },
  "kernelspec": {
   "display_name": "Python 3 (ipykernel)",
   "language": "python",
   "name": "python3"
  },
  "language_info": {
   "codemirror_mode": {
    "name": "ipython",
    "version": 3
   },
   "file_extension": ".py",
   "mimetype": "text/x-python",
   "name": "python",
   "nbconvert_exporter": "python",
   "pygments_lexer": "ipython3",
   "version": "3.9.7"
  }
 },
 "nbformat": 4,
 "nbformat_minor": 1
}
